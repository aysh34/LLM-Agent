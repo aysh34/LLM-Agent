{
 "cells": [
  {
   "cell_type": "markdown",
   "id": "00b538cc",
   "metadata": {},
   "source": [
    "## Stage 2: Tool Use / Function Calling\n",
    "\n",
    "It's time to give agent the ability to call real-world functions like fetching data or executing code when needed, not just describe what it would do.\n",
    "\n",
    "### Concept Behind Tool Use:\n",
    "\n",
    "LLMs are good at reasoning, but they can't directly:\n",
    "\n",
    "- access APIs\n",
    "\n",
    "- run Python\n",
    "\n",
    "- browse the web, unless we build that in.\n"
   ]
  },
  {
   "cell_type": "code",
   "execution_count": null,
   "id": "165b0e54",
   "metadata": {
    "scrolled": true
   },
   "outputs": [],
   "source": [
    "%pip install together python-dotenv"
   ]
  },
  {
   "cell_type": "code",
   "execution_count": 16,
   "id": "55536503",
   "metadata": {},
   "outputs": [],
   "source": [
    "from together import Together\n",
    "from dotenv import load_dotenv\n",
    "import time\n",
    "import json"
   ]
  },
  {
   "cell_type": "code",
   "execution_count": 17,
   "id": "75e49c61-3035-4bd6-853e-f0da74985700",
   "metadata": {},
   "outputs": [
    {
     "name": "stdout",
     "output_type": "stream",
     "text": [
      "Tool call: add({'a': 25, 'b': 30})\n",
      "Result = 55\n",
      "Tool call: add({'a': 25, 'b': 30})\n",
      "Result = 55\n"
     ]
    }
   ],
   "source": [
    "from together import Together\n",
    "load_dotenv()\n",
    "client = Together()\n",
    "\n",
    "# step 1 - Define a Tool\n",
    "tools = {\n",
    "    \"add\": lambda a, b: a + b\n",
    "}\n",
    "\n",
    "def run_agent(goal, max_steps=5):\n",
    "    memory = \"\"\n",
    "    for step in range(max_steps):\n",
    "        # Call the LLM\n",
    "        response = client.chat.completions.create(\n",
    "            model=\"meta-llama/Llama-3.3-70B-Instruct-Turbo-Free\",   \n",
    "            messages=[{\"role\": \"system\", \"content\": \"You are a helpful agent.\"},\n",
    "                      {\"role\": \"user\", \"content\": goal},\n",
    "                      {\"role\": \"assistant\", \"content\": memory}],\n",
    "            tools=[{\n",
    "                \"type\": \"function\",\n",
    "                \"function\": {\n",
    "                    \"name\": \"add\",\n",
    "                    \"description\": \"Adds two numbers\",\n",
    "                    \"parameters\": {\n",
    "                        \"type\": \"object\",\n",
    "                        \"properties\": {\n",
    "                            \"a\": {\"type\": \"number\"},\n",
    "                            \"b\": {\"type\": \"number\"}\n",
    "                        },\n",
    "                        \"required\": [\"a\", \"b\"]\n",
    "                    }\n",
    "                }\n",
    "            }]\n",
    "        )\n",
    "\n",
    "        msg = response.choices[0].message\n",
    "        \n",
    "        # If it's a tool call\n",
    "        if msg.tool_calls:\n",
    "            for tc in msg.tool_calls:\n",
    "                fn = tc.function.name\n",
    "                args = eval(tc.function.arguments)\n",
    "                result = tools[fn](**args)\n",
    "\n",
    "                # feed result back to LLM\n",
    "                memory += f\"\\nTool {fn} returned: {result}\"\n",
    "                print(f\"Tool call: {fn}({args})\\nResult = {result}\")\n",
    "        else:\n",
    "            print(\"Final Answer:\", msg.content)\n",
    "            break\n",
    "            \n",
    "        time.sleep(2)\n",
    "\n",
    "# run_agent(\"Can you add 4 + 6 and also 7 + 8?\",max_steps=1)\n",
    "run_agent(\"What is the sum of 25 and 30? Also, can you do 2 plus 5?\",max_steps=2)"
   ]
  },
  {
   "cell_type": "code",
   "execution_count": null,
   "id": "b3df1a10-9ac0-4b54-996c-e2bbb323eba2",
   "metadata": {},
   "outputs": [],
   "source": []
  }
 ],
 "metadata": {
  "kernelspec": {
   "display_name": "Python [conda env:base] *",
   "language": "python",
   "name": "conda-base-py"
  },
  "language_info": {
   "codemirror_mode": {
    "name": "ipython",
    "version": 3
   },
   "file_extension": ".py",
   "mimetype": "text/x-python",
   "name": "python",
   "nbconvert_exporter": "python",
   "pygments_lexer": "ipython3",
   "version": "3.13.5"
  }
 },
 "nbformat": 4,
 "nbformat_minor": 5
}
