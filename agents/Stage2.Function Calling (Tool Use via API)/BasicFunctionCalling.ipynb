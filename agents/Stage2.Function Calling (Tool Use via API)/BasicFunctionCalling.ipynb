{
 "cells": [
  {
   "cell_type": "markdown",
   "id": "00b538cc",
   "metadata": {},
   "source": [
    "## Stage 2: Tool Use / Function Calling\n",
    "\n",
    "It's time to give agent the ability to call real-world functions like fetching data or executing code when needed, not just describe what it would do.\n",
    "\n",
    "### Concept Behind Tool Use:\n",
    "\n",
    "LLMs are good at reasoning, but they can't directly:\n",
    "\n",
    "- access APIs\n",
    "\n",
    "- run Python\n",
    "\n",
    "- browse the web, unless we build that in.\n"
   ]
  },
  {
   "cell_type": "code",
   "execution_count": 1,
   "id": "f5c37de4",
   "metadata": {},
   "outputs": [],
   "source": [
    "# step 1 - Define a Tool\n",
    "def add(a, b):\n",
    "    return a + b"
   ]
  },
  {
   "cell_type": "code",
   "execution_count": 2,
   "id": "6b4bfe3e",
   "metadata": {},
   "outputs": [],
   "source": [
    "tools = [\n",
    "    {\n",
    "        \"type\": \"function\",\n",
    "        \"function\": {\n",
    "            \"name\": \"add\",\n",
    "            \"description\": \"Add two numbers and return the result.\",\n",
    "            \"parameters\": {\n",
    "                \"type\": \"object\",\n",
    "                \"properties\": {\n",
    "                    \"a\": {\"type\": \"number\", \"description\": \"The first number\"},\n",
    "                    \"b\": {\"type\": \"number\", \"description\": \"The second number\"},\n",
    "                },\n",
    "                \"required\": [\"a\", \"b\"],\n",
    "            },\n",
    "        },\n",
    "    }\n",
    "]"
   ]
  },
  {
   "cell_type": "code",
   "execution_count": 3,
   "id": "165b0e54",
   "metadata": {
    "scrolled": true
   },
   "outputs": [
    {
     "name": "stdout",
     "output_type": "stream",
     "text": [
      "Requirement already satisfied: together in d:\\anaconda3\\lib\\site-packages (1.5.21)\n",
      "Requirement already satisfied: python-dotenv in d:\\anaconda3\\lib\\site-packages (1.1.0)\n",
      "Requirement already satisfied: aiohttp<4.0.0,>=3.9.3 in d:\\anaconda3\\lib\\site-packages (from together) (3.11.10)\n",
      "Requirement already satisfied: click<9.0.0,>=8.1.7 in d:\\anaconda3\\lib\\site-packages (from together) (8.1.8)\n",
      "Requirement already satisfied: eval-type-backport<0.3.0,>=0.1.3 in d:\\anaconda3\\lib\\site-packages (from together) (0.2.2)\n",
      "Requirement already satisfied: filelock<4.0.0,>=3.13.1 in d:\\anaconda3\\lib\\site-packages (from together) (3.17.0)\n",
      "Requirement already satisfied: numpy>=1.26.0 in d:\\anaconda3\\lib\\site-packages (from together) (2.3.1)\n",
      "Requirement already satisfied: pillow<12.0.0,>=11.1.0 in d:\\anaconda3\\lib\\site-packages (from together) (11.1.0)\n",
      "Requirement already satisfied: pydantic<3.0.0,>=2.6.3 in d:\\anaconda3\\lib\\site-packages (from together) (2.10.3)\n",
      "Requirement already satisfied: requests<3.0.0,>=2.31.0 in d:\\anaconda3\\lib\\site-packages (from together) (2.32.3)\n",
      "Requirement already satisfied: rich<15.0.0,>=13.8.1 in d:\\anaconda3\\lib\\site-packages (from together) (13.9.4)\n",
      "Requirement already satisfied: tabulate<0.10.0,>=0.9.0 in d:\\anaconda3\\lib\\site-packages (from together) (0.9.0)\n",
      "Requirement already satisfied: tqdm<5.0.0,>=4.66.2 in d:\\anaconda3\\lib\\site-packages (from together) (4.67.1)\n",
      "Requirement already satisfied: typer<0.16,>=0.9 in d:\\anaconda3\\lib\\site-packages (from together) (0.9.0)\n",
      "Requirement already satisfied: aiohappyeyeballs>=2.3.0 in d:\\anaconda3\\lib\\site-packages (from aiohttp<4.0.0,>=3.9.3->together) (2.4.4)\n",
      "Requirement already satisfied: aiosignal>=1.1.2 in d:\\anaconda3\\lib\\site-packages (from aiohttp<4.0.0,>=3.9.3->together) (1.2.0)\n",
      "Requirement already satisfied: attrs>=17.3.0 in d:\\anaconda3\\lib\\site-packages (from aiohttp<4.0.0,>=3.9.3->together) (24.3.0)\n",
      "Requirement already satisfied: frozenlist>=1.1.1 in d:\\anaconda3\\lib\\site-packages (from aiohttp<4.0.0,>=3.9.3->together) (1.5.0)\n",
      "Requirement already satisfied: multidict<7.0,>=4.5 in d:\\anaconda3\\lib\\site-packages (from aiohttp<4.0.0,>=3.9.3->together) (6.1.0)\n",
      "Requirement already satisfied: propcache>=0.2.0 in d:\\anaconda3\\lib\\site-packages (from aiohttp<4.0.0,>=3.9.3->together) (0.3.1)\n",
      "Requirement already satisfied: yarl<2.0,>=1.17.0 in d:\\anaconda3\\lib\\site-packages (from aiohttp<4.0.0,>=3.9.3->together) (1.18.0)\n",
      "Requirement already satisfied: colorama in d:\\anaconda3\\lib\\site-packages (from click<9.0.0,>=8.1.7->together) (0.4.6)\n",
      "Requirement already satisfied: annotated-types>=0.6.0 in d:\\anaconda3\\lib\\site-packages (from pydantic<3.0.0,>=2.6.3->together) (0.6.0)\n",
      "Requirement already satisfied: pydantic-core==2.27.1 in d:\\anaconda3\\lib\\site-packages (from pydantic<3.0.0,>=2.6.3->together) (2.27.1)\n",
      "Requirement already satisfied: typing-extensions>=4.12.2 in d:\\anaconda3\\lib\\site-packages (from pydantic<3.0.0,>=2.6.3->together) (4.12.2)\n",
      "Requirement already satisfied: charset-normalizer<4,>=2 in d:\\anaconda3\\lib\\site-packages (from requests<3.0.0,>=2.31.0->together) (3.3.2)\n",
      "Requirement already satisfied: idna<4,>=2.5 in d:\\anaconda3\\lib\\site-packages (from requests<3.0.0,>=2.31.0->together) (3.7)\n",
      "Requirement already satisfied: urllib3<3,>=1.21.1 in d:\\anaconda3\\lib\\site-packages (from requests<3.0.0,>=2.31.0->together) (2.3.0)\n",
      "Requirement already satisfied: certifi>=2017.4.17 in d:\\anaconda3\\lib\\site-packages (from requests<3.0.0,>=2.31.0->together) (2025.8.3)\n",
      "Requirement already satisfied: markdown-it-py>=2.2.0 in d:\\anaconda3\\lib\\site-packages (from rich<15.0.0,>=13.8.1->together) (2.2.0)\n",
      "Requirement already satisfied: pygments<3.0.0,>=2.13.0 in d:\\anaconda3\\lib\\site-packages (from rich<15.0.0,>=13.8.1->together) (2.19.1)\n",
      "Requirement already satisfied: mdurl~=0.1 in d:\\anaconda3\\lib\\site-packages (from markdown-it-py>=2.2.0->rich<15.0.0,>=13.8.1->together) (0.1.0)\n",
      "Note: you may need to restart the kernel to use updated packages.\n"
     ]
    },
    {
     "name": "stderr",
     "output_type": "stream",
     "text": [
      "WARNING: Ignoring invalid distribution ~otebook (D:\\Anaconda3\\Lib\\site-packages)\n",
      "WARNING: Ignoring invalid distribution ~otebook (D:\\Anaconda3\\Lib\\site-packages)\n",
      "WARNING: Ignoring invalid distribution ~otebook (D:\\Anaconda3\\Lib\\site-packages)\n",
      "\n",
      "[notice] A new release of pip is available: 25.1.1 -> 25.2\n",
      "[notice] To update, run: python.exe -m pip install --upgrade pip\n"
     ]
    }
   ],
   "source": [
    "%pip install together python-dotenv"
   ]
  },
  {
   "cell_type": "code",
   "execution_count": 4,
   "id": "55536503",
   "metadata": {},
   "outputs": [],
   "source": [
    "from together import Together\n",
    "from dotenv import load_dotenv"
   ]
  },
  {
   "cell_type": "code",
   "execution_count": 5,
   "id": "fd43b7c7",
   "metadata": {},
   "outputs": [
    {
     "name": "stdout",
     "output_type": "stream",
     "text": [
      "LLM: None\n",
      "Tool call: [ToolCalls(id='call_f6ihan8zouf6v6nb4cdiwuf9', type='function', function=FunctionCall(name='add', arguments='{\"a\":5,\"b\":7}'), index=0)]\n"
     ]
    }
   ],
   "source": [
    "load_dotenv()\n",
    "client = Together()\n",
    "response = client.chat.completions.create(\n",
    "    model=\"meta-llama/Llama-3.3-70B-Instruct-Turbo-Free\",\n",
    "    messages=[{\"role\": \"user\", \"content\": \"What is 5 plus 7?\"}],\n",
    "    tools=tools,\n",
    "    tool_choice=\"auto\",\n",
    ")\n",
    "\n",
    "msg = response.choices[0].message\n",
    "print(\"LLM:\", msg.content)\n",
    "print(\"Tool call:\", msg.tool_calls)\n"
   ]
  }
 ],
 "metadata": {
  "kernelspec": {
   "display_name": "Python [conda env:base] *",
   "language": "python",
   "name": "conda-base-py"
  },
  "language_info": {
   "codemirror_mode": {
    "name": "ipython",
    "version": 3
   },
   "file_extension": ".py",
   "mimetype": "text/x-python",
   "name": "python",
   "nbconvert_exporter": "python",
   "pygments_lexer": "ipython3",
   "version": "3.13.5"
  }
 },
 "nbformat": 4,
 "nbformat_minor": 5
}
