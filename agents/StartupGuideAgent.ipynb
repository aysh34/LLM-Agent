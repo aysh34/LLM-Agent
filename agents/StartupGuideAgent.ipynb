{
 "cells": [
  {
   "cell_type": "markdown",
   "id": "464ef63b",
   "metadata": {},
   "source": [
    "## **Goal: Create an LLM Agent from Scratch for a Business Use Case**"
   ]
  },
  {
   "cell_type": "markdown",
   "id": "6f42f13d-2ff1-423d-a1e4-850ceb1ac97e",
   "metadata": {},
   "source": [
    "### Business Goal:\n",
    "**\"Research customer churn strategies and write a 3-step action plan for a startup.\"**\n",
    "\n",
    "This task involves:\n",
    "- Researching\n",
    "- Structuring a plan\n",
    "- Writing actionable advice"
   ]
  },
  {
   "cell_type": "markdown",
   "id": "7d4b5050-05a3-4259-992d-17a674c65514",
   "metadata": {},
   "source": [
    "#### Understand What Makes This an Agent (Not Just an LLM Prompt)\n",
    "1. Goal: We want an outcome: a clear plan\n",
    "2. Memory: It needs to remember past steps (research, ideas)\n",
    "3. Reasoning Loop: Should think → act → reflect, not just write once\n",
    "4. Tool Use: Could use web search or not\n",
    "\n",
    "This is beyond one-shot generation → it needs thinking, memory, and iteration = a perfect job for an LLM agent."
   ]
  },
  {
   "cell_type": "code",
   "execution_count": 1,
   "id": "c3f3092b-2e75-40c3-827e-ba7f3c91af27",
   "metadata": {
    "scrolled": true
   },
   "outputs": [
    {
     "name": "stdout",
     "output_type": "stream",
     "text": [
      "Requirement already satisfied: together in d:\\anaconda3\\lib\\site-packages (1.5.21)\n",
      "Requirement already satisfied: python-dotenv in d:\\anaconda3\\lib\\site-packages (1.1.0)\n",
      "Requirement already satisfied: aiohttp<4.0.0,>=3.9.3 in d:\\anaconda3\\lib\\site-packages (from together) (3.11.10)\n",
      "Requirement already satisfied: click<9.0.0,>=8.1.7 in d:\\anaconda3\\lib\\site-packages (from together) (8.1.8)\n",
      "Requirement already satisfied: eval-type-backport<0.3.0,>=0.1.3 in d:\\anaconda3\\lib\\site-packages (from together) (0.2.2)\n",
      "Requirement already satisfied: filelock<4.0.0,>=3.13.1 in d:\\anaconda3\\lib\\site-packages (from together) (3.17.0)\n",
      "Requirement already satisfied: numpy>=1.26.0 in d:\\anaconda3\\lib\\site-packages (from together) (2.3.1)\n",
      "Requirement already satisfied: pillow<12.0.0,>=11.1.0 in d:\\anaconda3\\lib\\site-packages (from together) (11.1.0)\n",
      "Requirement already satisfied: pydantic<3.0.0,>=2.6.3 in d:\\anaconda3\\lib\\site-packages (from together) (2.10.3)\n",
      "Requirement already satisfied: requests<3.0.0,>=2.31.0 in d:\\anaconda3\\lib\\site-packages (from together) (2.32.3)\n",
      "Requirement already satisfied: rich<15.0.0,>=13.8.1 in d:\\anaconda3\\lib\\site-packages (from together) (13.9.4)\n",
      "Requirement already satisfied: tabulate<0.10.0,>=0.9.0 in d:\\anaconda3\\lib\\site-packages (from together) (0.9.0)\n",
      "Requirement already satisfied: tqdm<5.0.0,>=4.66.2 in d:\\anaconda3\\lib\\site-packages (from together) (4.67.1)\n",
      "Requirement already satisfied: typer<0.16,>=0.9 in d:\\anaconda3\\lib\\site-packages (from together) (0.9.0)\n",
      "Requirement already satisfied: aiohappyeyeballs>=2.3.0 in d:\\anaconda3\\lib\\site-packages (from aiohttp<4.0.0,>=3.9.3->together) (2.4.4)\n",
      "Requirement already satisfied: aiosignal>=1.1.2 in d:\\anaconda3\\lib\\site-packages (from aiohttp<4.0.0,>=3.9.3->together) (1.2.0)\n",
      "Requirement already satisfied: attrs>=17.3.0 in d:\\anaconda3\\lib\\site-packages (from aiohttp<4.0.0,>=3.9.3->together) (24.3.0)\n",
      "Requirement already satisfied: frozenlist>=1.1.1 in d:\\anaconda3\\lib\\site-packages (from aiohttp<4.0.0,>=3.9.3->together) (1.5.0)\n",
      "Requirement already satisfied: multidict<7.0,>=4.5 in d:\\anaconda3\\lib\\site-packages (from aiohttp<4.0.0,>=3.9.3->together) (6.1.0)\n",
      "Requirement already satisfied: propcache>=0.2.0 in d:\\anaconda3\\lib\\site-packages (from aiohttp<4.0.0,>=3.9.3->together) (0.3.1)\n",
      "Requirement already satisfied: yarl<2.0,>=1.17.0 in d:\\anaconda3\\lib\\site-packages (from aiohttp<4.0.0,>=3.9.3->together) (1.18.0)\n",
      "Requirement already satisfied: colorama in d:\\anaconda3\\lib\\site-packages (from click<9.0.0,>=8.1.7->together) (0.4.6)\n",
      "Requirement already satisfied: annotated-types>=0.6.0 in d:\\anaconda3\\lib\\site-packages (from pydantic<3.0.0,>=2.6.3->together) (0.6.0)\n",
      "Requirement already satisfied: pydantic-core==2.27.1 in d:\\anaconda3\\lib\\site-packages (from pydantic<3.0.0,>=2.6.3->together) (2.27.1)\n",
      "Requirement already satisfied: typing-extensions>=4.12.2 in d:\\anaconda3\\lib\\site-packages (from pydantic<3.0.0,>=2.6.3->together) (4.12.2)\n",
      "Requirement already satisfied: charset-normalizer<4,>=2 in d:\\anaconda3\\lib\\site-packages (from requests<3.0.0,>=2.31.0->together) (3.3.2)\n",
      "Requirement already satisfied: idna<4,>=2.5 in d:\\anaconda3\\lib\\site-packages (from requests<3.0.0,>=2.31.0->together) (3.7)\n",
      "Requirement already satisfied: urllib3<3,>=1.21.1 in d:\\anaconda3\\lib\\site-packages (from requests<3.0.0,>=2.31.0->together) (2.3.0)\n",
      "Requirement already satisfied: certifi>=2017.4.17 in d:\\anaconda3\\lib\\site-packages (from requests<3.0.0,>=2.31.0->together) (2025.6.15)\n",
      "Requirement already satisfied: markdown-it-py>=2.2.0 in d:\\anaconda3\\lib\\site-packages (from rich<15.0.0,>=13.8.1->together) (2.2.0)\n",
      "Requirement already satisfied: pygments<3.0.0,>=2.13.0 in d:\\anaconda3\\lib\\site-packages (from rich<15.0.0,>=13.8.1->together) (2.19.1)\n",
      "Requirement already satisfied: mdurl~=0.1 in d:\\anaconda3\\lib\\site-packages (from markdown-it-py>=2.2.0->rich<15.0.0,>=13.8.1->together) (0.1.0)\n"
     ]
    },
    {
     "name": "stderr",
     "output_type": "stream",
     "text": [
      "\n",
      "[notice] A new release of pip is available: 25.1.1 -> 25.2\n",
      "[notice] To update, run: python.exe -m pip install --upgrade pip\n"
     ]
    }
   ],
   "source": [
    "!pip install together python-dotenv"
   ]
  },
  {
   "cell_type": "code",
   "execution_count": 2,
   "id": "eba4b6ff-afd6-4548-b388-8cf21a18ad0b",
   "metadata": {},
   "outputs": [],
   "source": [
    "from together import Together\n",
    "from dotenv import load_dotenv\n",
    "import os\n",
    "\n",
    "load_dotenv()\n",
    "client = Together()\n",
    "\n",
    "def run_agent(goal, memory=\"\", verbose=True, max_steps=10):\n",
    "    step = 0\n",
    "    while step < max_steps:\n",
    "        prompt = f\"\"\"You are a strategic business agent working step-by-step toward a goal.\n",
    "\n",
    "Your GOAL: {goal}\n",
    "\n",
    "Your MEMORY (what you've accomplished so far):\n",
    "{memory if memory else \"Starting fresh - no previous work done.\"}\n",
    "\n",
    "Instructions:\n",
    "- THINK: What needs to be done next (1–2 sentences)\n",
    "- ACT: Do ONE specific action. If this action produces output (like a report or plan), include that output in this section.\n",
    "- REFLECT: Evaluate your progress. Say \"DONE\" only if the goal is fully complete.\n",
    "\n",
    "Use this exact format:\n",
    "THINK: ...\n",
    "ACT: ...\n",
    "REFLECT: ...\n",
    "\"\"\".strip()\n",
    "\n",
    "        try:\n",
    "            response = client.chat.completions.create(\n",
    "                model=\"meta-llama/Llama-3.3-70B-Instruct-Turbo-Free\",\n",
    "                messages=[\n",
    "                    {\"role\": \"system\", \n",
    "                    \"content\": '''You are a structured agent. Follow the THINK-ACT-REFLECT format exactly.\n",
    "In the ACT step, if your action produces any concrete output (like a list, a plan, or steps), \n",
    "you MUST include that content in the ACT section.'''},\n",
    "                    {\"role\": \"user\", \"content\": prompt}\n",
    "                ]\n",
    "            )\n",
    "            reply = response.choices[0].message.content.strip()\n",
    "            if verbose:\n",
    "                print(reply)\n",
    "            memory += f\"\\n{reply}\"\n",
    "\n",
    "            if \"DONE\" in reply.upper():\n",
    "                break\n",
    "            step += 1\n",
    "\n",
    "        except Exception as e:\n",
    "            print(f\"Error during agent execution: {e}\")\n",
    "            break\n",
    "\n",
    "    return memory\n"
   ]
  },
  {
   "cell_type": "code",
   "execution_count": 3,
   "id": "259c810f-c134-4bed-a432-1164d6ba4fda",
   "metadata": {},
   "outputs": [],
   "source": [
    "# run_business_agent(\"Develop a pricing strategy for a SaaS startup.\")"
   ]
  },
  {
   "cell_type": "code",
   "execution_count": 4,
   "id": "ee7f8fa8-32d5-4595-aca8-c72356e1458e",
   "metadata": {},
   "outputs": [
    {
     "name": "stdout",
     "output_type": "stream",
     "text": [
      "THINK: To achieve the goal, I need to start by researching existing customer churn strategies that have been effective for startups, and then identify key elements to include in the action plan. This research will lay the foundation for creating a tailored 3-step plan.\n",
      "\n",
      "ACT: I will conduct a preliminary research on customer churn strategies, focusing on retention techniques, feedback collection methods, and re-engagement tactics. Based on this research, I have identified the following key strategies: \n",
      "- Implementing regular customer feedback surveys\n",
      "- Offering personalized content and offers\n",
      "- Developing a loyalty program\n",
      "\n",
      "REFLECT: I have made initial progress by identifying some key customer churn strategies, but I still need to organize these findings into a structured 3-step action plan tailored for a startup, so my goal is not yet fully complete.\n",
      "THINK: To further progress toward the goal, I need to organize the identified key strategies into a structured 3-step action plan that a startup can follow to mitigate customer churn. This involves prioritizing the strategies based on their potential impact and feasibility for a startup.\n",
      "\n",
      "ACT: I will create a 3-step action plan by prioritizing and organizing the identified strategies:\n",
      "1. **Implement Feedback and Personalization**: Start by implementing regular customer feedback surveys to understand customer needs and pain points, and use this information to offer personalized content and offers.\n",
      "2. **Develop and Launch a Loyalty Program**: Design and launch a loyalty program that rewards customers for their continued engagement and loyalty, encouraging them to stay with the startup.\n",
      "3. **Monitor and Adjust**: Continuously monitor the effectiveness of the first two steps, collecting feedback and making adjustments as necessary to ensure the strategies remain effective in reducing customer churn.\n",
      "\n",
      "REFLECT: With the creation of the 3-step action plan, I have made significant progress toward achieving the goal, but I should review the plan for any potential gaps or areas for improvement before considering the goal fully complete.\n",
      "THINK: To ensure the 3-step action plan is comprehensive and effective, I need to review it for any potential gaps or areas for improvement, considering additional strategies or adjustments that could enhance its impact. This review will help in finalizing the plan and achieving the goal.\n",
      "\n",
      "ACT: I will conduct a review of the 3-step action plan, focusing on potential gaps and areas for improvement, and based on this review, I propose the following adjustments and additions:\n",
      "- Incorporating social media engagement as a supplementary strategy to enhance customer interaction and feedback.\n",
      "- Considering the implementation of a customer relationship management (CRM) system to better track customer interactions and personalize offers.\n",
      "The adjusted 3-step action plan with these considerations is:\n",
      "1. **Implement Feedback and Personalization**: Start by implementing regular customer feedback surveys to understand customer needs and pain points, and use this information to offer personalized content and offers, supplemented by active social media engagement.\n",
      "2. **Develop and Launch a Loyalty Program**: Design and launch a loyalty program that rewards customers for their continued engagement and loyalty, encouraging them to stay with the startup, and consider integrating a CRM system for enhanced customer management.\n",
      "3. **Monitor and Adjust**: Continuously monitor the effectiveness of the first two steps, collecting feedback and making adjustments as necessary, including regular review of social media engagement metrics and CRM data to ensure the strategies remain effective in reducing customer churn.\n",
      "\n",
      "REFLECT: With the review and adjustment of the 3-step action plan, I have fully addressed the goal by creating a comprehensive and tailored plan for a startup to mitigate customer churn, and thus, the goal is now fully complete: DONE\n"
     ]
    },
    {
     "data": {
      "text/plain": [
       "'\\nTHINK: To achieve the goal, I need to start by researching existing customer churn strategies that have been effective for startups, and then identify key elements to include in the action plan. This research will lay the foundation for creating a tailored 3-step plan.\\n\\nACT: I will conduct a preliminary research on customer churn strategies, focusing on retention techniques, feedback collection methods, and re-engagement tactics. Based on this research, I have identified the following key strategies: \\n- Implementing regular customer feedback surveys\\n- Offering personalized content and offers\\n- Developing a loyalty program\\n\\nREFLECT: I have made initial progress by identifying some key customer churn strategies, but I still need to organize these findings into a structured 3-step action plan tailored for a startup, so my goal is not yet fully complete.\\nTHINK: To further progress toward the goal, I need to organize the identified key strategies into a structured 3-step action plan that a startup can follow to mitigate customer churn. This involves prioritizing the strategies based on their potential impact and feasibility for a startup.\\n\\nACT: I will create a 3-step action plan by prioritizing and organizing the identified strategies:\\n1. **Implement Feedback and Personalization**: Start by implementing regular customer feedback surveys to understand customer needs and pain points, and use this information to offer personalized content and offers.\\n2. **Develop and Launch a Loyalty Program**: Design and launch a loyalty program that rewards customers for their continued engagement and loyalty, encouraging them to stay with the startup.\\n3. **Monitor and Adjust**: Continuously monitor the effectiveness of the first two steps, collecting feedback and making adjustments as necessary to ensure the strategies remain effective in reducing customer churn.\\n\\nREFLECT: With the creation of the 3-step action plan, I have made significant progress toward achieving the goal, but I should review the plan for any potential gaps or areas for improvement before considering the goal fully complete.\\nTHINK: To ensure the 3-step action plan is comprehensive and effective, I need to review it for any potential gaps or areas for improvement, considering additional strategies or adjustments that could enhance its impact. This review will help in finalizing the plan and achieving the goal.\\n\\nACT: I will conduct a review of the 3-step action plan, focusing on potential gaps and areas for improvement, and based on this review, I propose the following adjustments and additions:\\n- Incorporating social media engagement as a supplementary strategy to enhance customer interaction and feedback.\\n- Considering the implementation of a customer relationship management (CRM) system to better track customer interactions and personalize offers.\\nThe adjusted 3-step action plan with these considerations is:\\n1. **Implement Feedback and Personalization**: Start by implementing regular customer feedback surveys to understand customer needs and pain points, and use this information to offer personalized content and offers, supplemented by active social media engagement.\\n2. **Develop and Launch a Loyalty Program**: Design and launch a loyalty program that rewards customers for their continued engagement and loyalty, encouraging them to stay with the startup, and consider integrating a CRM system for enhanced customer management.\\n3. **Monitor and Adjust**: Continuously monitor the effectiveness of the first two steps, collecting feedback and making adjustments as necessary, including regular review of social media engagement metrics and CRM data to ensure the strategies remain effective in reducing customer churn.\\n\\nREFLECT: With the review and adjustment of the 3-step action plan, I have fully addressed the goal by creating a comprehensive and tailored plan for a startup to mitigate customer churn, and thus, the goal is now fully complete: DONE'"
      ]
     },
     "execution_count": 4,
     "metadata": {},
     "output_type": "execute_result"
    }
   ],
   "source": [
    "run_agent(\"Research customer churn strategies and write a 3-step action plan for a startup.\")"
   ]
  },
  {
   "cell_type": "markdown",
   "id": "68f5e661-038d-4433-a94a-65c5bf1e4dce",
   "metadata": {},
   "source": [
    "### **Modified version to show only the final actionable output**"
   ]
  },
  {
   "cell_type": "code",
   "execution_count": 5,
   "id": "2381ae6e-cc63-4f30-82e7-f14757904178",
   "metadata": {},
   "outputs": [],
   "source": [
    "from together import Together\n",
    "from dotenv import load_dotenv\n",
    "import os\n",
    "\n",
    "load_dotenv()\n",
    "client = Together()\n",
    "\n",
    "def run_agent(goal, memory=\"\", max_steps=10):\n",
    "    step = 0\n",
    "    while step < max_steps:\n",
    "        prompt = f\"\"\"You are a strategic business agent working step-by-step toward a goal.\n",
    "\n",
    "Your GOAL: {goal}\n",
    "\n",
    "Your MEMORY (what you've accomplished so far):\n",
    "{memory if memory else \"Starting fresh - no previous work done.\"}\n",
    "\n",
    "Instructions:\n",
    "- THINK: What needs to be done next (1–2 sentences)\n",
    "- ACT: Do ONE specific action. If this action produces output (like a report or plan), include that output in this section.\n",
    "- REFLECT: Evaluate your progress. Say \"DONE\" only if the goal is fully complete.\n",
    "\n",
    "Use this exact format:\n",
    "THINK: ...\n",
    "ACT: ...\n",
    "REFLECT: ...\n",
    "\"\"\".strip()\n",
    "\n",
    "        try:\n",
    "            response = client.chat.completions.create(\n",
    "                model=\"meta-llama/Llama-3.3-70B-Instruct-Turbo-Free\",\n",
    "                messages=[\n",
    "                    {\"role\": \"system\", \n",
    "                    \"content\": '''You are a structured agent. Follow the THINK-ACT-REFLECT format exactly.\n",
    "In the ACT step, if your action produces any concrete output (like a list, a plan, or steps), \n",
    "you MUST include that content in the ACT section.'''},\n",
    "                    {\"role\": \"user\", \"content\": prompt}\n",
    "                ]\n",
    "            )\n",
    "            reply = response.choices[0].message.content.strip()\n",
    "            memory += f\"\\n{reply}\"\n",
    "\n",
    "            if \"DONE\" in reply.upper():\n",
    "                break\n",
    "            step += 1\n",
    "\n",
    "        except Exception as e:\n",
    "            print(f\"Error during agent execution: {e}\")\n",
    "            break\n",
    "\n",
    "    act_blocks = []\n",
    "    for cycle in memory.split(\"THINK:\"):\n",
    "        if \"ACT:\" in cycle:\n",
    "            act_blocks.append(cycle.split(\"ACT:\")[1].split(\"REFLECT:\")[0].strip())\n",
    "    for i, act in enumerate(act_blocks):\n",
    "        print(f\"Step {i+1} ACT:\\n{act}\\n\")"
   ]
  },
  {
   "cell_type": "code",
   "execution_count": 6,
   "id": "82f3d0a1-b6d6-4254-82ad-54733ece4202",
   "metadata": {},
   "outputs": [
    {
     "name": "stdout",
     "output_type": "stream",
     "text": [
      "Step 1 ACT:\n",
      "I will conduct a preliminary research on customer churn strategies, focusing on retention techniques, feedback collection methods, and re-engagement tactics. The preliminary research yields the following key strategies: \n",
      "1. Implementing regular customer feedback surveys to identify dissatisfaction early,\n",
      "2. Offering personalized experiences and loyalty programs to enhance customer engagement,\n",
      "3. Developing proactive re-engagement campaigns to win back inactive customers.\n",
      "\n",
      "Step 2 ACT:\n",
      "I will create a 3-step action plan for a startup based on the prioritized strategies:\n",
      "1. **Implement Lightweight Feedback Mechanisms**: Start with simple, low-cost feedback tools (e.g., email surveys, social media polls) to gather insights on customer satisfaction and pain points.\n",
      "2. **Personalize Customer Experiences**: Utilize available data to offer basic personalization in marketing communications and customer service interactions, enhancing the customer experience without significant additional cost.\n",
      "3. **Proactive Re-engagement through Social Media**: Leverage social media platforms for targeted re-engagement campaigns, focusing on inactive customers with personalized messages and offers to encourage their return.\n",
      "\n"
     ]
    }
   ],
   "source": [
    "run_agent(\"Research customer churn strategies and write a 3-step action plan for a startup.\")"
   ]
  },
  {
   "cell_type": "code",
   "execution_count": null,
   "id": "896c6f9d-475a-4b92-ab9b-cdc4931b38d9",
   "metadata": {},
   "outputs": [],
   "source": []
  }
 ],
 "metadata": {
  "kernelspec": {
   "display_name": "Python [conda env:base] *",
   "language": "python",
   "name": "conda-base-py"
  },
  "language_info": {
   "codemirror_mode": {
    "name": "ipython",
    "version": 3
   },
   "file_extension": ".py",
   "mimetype": "text/x-python",
   "name": "python",
   "nbconvert_exporter": "python",
   "pygments_lexer": "ipython3",
   "version": "3.13.5"
  }
 },
 "nbformat": 4,
 "nbformat_minor": 5
}
