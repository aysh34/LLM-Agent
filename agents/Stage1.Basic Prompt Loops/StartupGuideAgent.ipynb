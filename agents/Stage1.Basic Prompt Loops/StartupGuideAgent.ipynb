{
 "cells": [
  {
   "cell_type": "markdown",
   "id": "464ef63b",
   "metadata": {},
   "source": [
    "## **Goal: Create an LLM Agent from Scratch for a Business Use Case**"
   ]
  },
  {
   "cell_type": "markdown",
   "id": "6f42f13d-2ff1-423d-a1e4-850ceb1ac97e",
   "metadata": {},
   "source": [
    "### Business Goal:\n",
    "**\"Research customer churn strategies and write a 3-step action plan for a startup.\"**\n",
    "\n",
    "This task involves:\n",
    "- Researching\n",
    "- Structuring a plan\n",
    "- Writing actionable advice"
   ]
  },
  {
   "cell_type": "markdown",
   "id": "7d4b5050-05a3-4259-992d-17a674c65514",
   "metadata": {},
   "source": [
    "#### Understand What Makes This an Agent (Not Just an LLM Prompt)\n",
    "1. Goal: We want an outcome: a clear plan\n",
    "2. Memory: It needs to remember past steps (research, ideas)\n",
    "3. Reasoning Loop: Should think → act → reflect, not just write once\n",
    "4. Tool Use: Could use web search or not\n",
    "\n",
    "This is beyond one-shot generation → it needs thinking, memory, and iteration = a perfect job for an LLM agent."
   ]
  },
  {
   "cell_type": "code",
   "execution_count": 1,
   "id": "c3f3092b-2e75-40c3-827e-ba7f3c91af27",
   "metadata": {
    "scrolled": true
   },
   "outputs": [
    {
     "name": "stdout",
     "output_type": "stream",
     "text": [
      "Requirement already satisfied: together in d:\\anaconda3\\lib\\site-packages (1.5.21)\n",
      "Requirement already satisfied: python-dotenv in d:\\anaconda3\\lib\\site-packages (1.1.0)\n",
      "Requirement already satisfied: aiohttp<4.0.0,>=3.9.3 in d:\\anaconda3\\lib\\site-packages (from together) (3.11.10)\n",
      "Requirement already satisfied: click<9.0.0,>=8.1.7 in d:\\anaconda3\\lib\\site-packages (from together) (8.1.8)\n",
      "Requirement already satisfied: eval-type-backport<0.3.0,>=0.1.3 in d:\\anaconda3\\lib\\site-packages (from together) (0.2.2)\n",
      "Requirement already satisfied: filelock<4.0.0,>=3.13.1 in d:\\anaconda3\\lib\\site-packages (from together) (3.17.0)\n",
      "Requirement already satisfied: numpy>=1.26.0 in d:\\anaconda3\\lib\\site-packages (from together) (2.3.1)\n",
      "Requirement already satisfied: pillow<12.0.0,>=11.1.0 in d:\\anaconda3\\lib\\site-packages (from together) (11.1.0)\n",
      "Requirement already satisfied: pydantic<3.0.0,>=2.6.3 in d:\\anaconda3\\lib\\site-packages (from together) (2.10.3)\n",
      "Requirement already satisfied: requests<3.0.0,>=2.31.0 in d:\\anaconda3\\lib\\site-packages (from together) (2.32.3)\n",
      "Requirement already satisfied: rich<15.0.0,>=13.8.1 in d:\\anaconda3\\lib\\site-packages (from together) (13.9.4)\n",
      "Requirement already satisfied: tabulate<0.10.0,>=0.9.0 in d:\\anaconda3\\lib\\site-packages (from together) (0.9.0)\n",
      "Requirement already satisfied: tqdm<5.0.0,>=4.66.2 in d:\\anaconda3\\lib\\site-packages (from together) (4.67.1)\n",
      "Requirement already satisfied: typer<0.16,>=0.9 in d:\\anaconda3\\lib\\site-packages (from together) (0.9.0)\n",
      "Requirement already satisfied: aiohappyeyeballs>=2.3.0 in d:\\anaconda3\\lib\\site-packages (from aiohttp<4.0.0,>=3.9.3->together) (2.4.4)\n",
      "Requirement already satisfied: aiosignal>=1.1.2 in d:\\anaconda3\\lib\\site-packages (from aiohttp<4.0.0,>=3.9.3->together) (1.2.0)\n",
      "Requirement already satisfied: attrs>=17.3.0 in d:\\anaconda3\\lib\\site-packages (from aiohttp<4.0.0,>=3.9.3->together) (24.3.0)\n",
      "Requirement already satisfied: frozenlist>=1.1.1 in d:\\anaconda3\\lib\\site-packages (from aiohttp<4.0.0,>=3.9.3->together) (1.5.0)\n",
      "Requirement already satisfied: multidict<7.0,>=4.5 in d:\\anaconda3\\lib\\site-packages (from aiohttp<4.0.0,>=3.9.3->together) (6.1.0)\n",
      "Requirement already satisfied: propcache>=0.2.0 in d:\\anaconda3\\lib\\site-packages (from aiohttp<4.0.0,>=3.9.3->together) (0.3.1)\n",
      "Requirement already satisfied: yarl<2.0,>=1.17.0 in d:\\anaconda3\\lib\\site-packages (from aiohttp<4.0.0,>=3.9.3->together) (1.18.0)\n",
      "Requirement already satisfied: colorama in d:\\anaconda3\\lib\\site-packages (from click<9.0.0,>=8.1.7->together) (0.4.6)\n",
      "Requirement already satisfied: annotated-types>=0.6.0 in d:\\anaconda3\\lib\\site-packages (from pydantic<3.0.0,>=2.6.3->together) (0.6.0)\n",
      "Requirement already satisfied: pydantic-core==2.27.1 in d:\\anaconda3\\lib\\site-packages (from pydantic<3.0.0,>=2.6.3->together) (2.27.1)\n",
      "Requirement already satisfied: typing-extensions>=4.12.2 in d:\\anaconda3\\lib\\site-packages (from pydantic<3.0.0,>=2.6.3->together) (4.12.2)\n",
      "Requirement already satisfied: charset-normalizer<4,>=2 in d:\\anaconda3\\lib\\site-packages (from requests<3.0.0,>=2.31.0->together) (3.3.2)\n",
      "Requirement already satisfied: idna<4,>=2.5 in d:\\anaconda3\\lib\\site-packages (from requests<3.0.0,>=2.31.0->together) (3.7)\n",
      "Requirement already satisfied: urllib3<3,>=1.21.1 in d:\\anaconda3\\lib\\site-packages (from requests<3.0.0,>=2.31.0->together) (2.3.0)\n",
      "Requirement already satisfied: certifi>=2017.4.17 in d:\\anaconda3\\lib\\site-packages (from requests<3.0.0,>=2.31.0->together) (2025.6.15)\n",
      "Requirement already satisfied: markdown-it-py>=2.2.0 in d:\\anaconda3\\lib\\site-packages (from rich<15.0.0,>=13.8.1->together) (2.2.0)\n",
      "Requirement already satisfied: pygments<3.0.0,>=2.13.0 in d:\\anaconda3\\lib\\site-packages (from rich<15.0.0,>=13.8.1->together) (2.19.1)\n",
      "Requirement already satisfied: mdurl~=0.1 in d:\\anaconda3\\lib\\site-packages (from markdown-it-py>=2.2.0->rich<15.0.0,>=13.8.1->together) (0.1.0)\n"
     ]
    },
    {
     "name": "stderr",
     "output_type": "stream",
     "text": [
      "\n",
      "[notice] A new release of pip is available: 25.1.1 -> 25.2\n",
      "[notice] To update, run: python.exe -m pip install --upgrade pip\n"
     ]
    }
   ],
   "source": [
    "!pip install together python-dotenv"
   ]
  },
  {
   "cell_type": "code",
   "execution_count": 2,
   "id": "eba4b6ff-afd6-4548-b388-8cf21a18ad0b",
   "metadata": {},
   "outputs": [],
   "source": [
    "from together import Together\n",
    "from dotenv import load_dotenv\n",
    "import os\n",
    "\n",
    "load_dotenv()\n",
    "client = Together()\n",
    "\n",
    "def run_agent(goal, memory=\"\", verbose=True, max_steps=10):\n",
    "    step = 0\n",
    "    while step < max_steps:\n",
    "        prompt = f\"\"\"You are a strategic business agent working step-by-step toward a goal.\n",
    "\n",
    "Your GOAL: {goal}\n",
    "\n",
    "Your MEMORY (what you've accomplished so far):\n",
    "{memory if memory else \"Starting fresh - no previous work done.\"}\n",
    "\n",
    "Instructions:\n",
    "- THINK: What needs to be done next (1–2 sentences)\n",
    "- ACT: Do ONE specific action. If this action produces output (like a report or plan), include that output in this section.\n",
    "- REFLECT: Evaluate your progress. Say \"DONE\" only if the goal is fully complete.\n",
    "\n",
    "Use this exact format:\n",
    "THINK: ...\n",
    "ACT: ...\n",
    "REFLECT: ...\n",
    "\"\"\".strip()\n",
    "\n",
    "        try:\n",
    "            response = client.chat.completions.create(\n",
    "                model=\"meta-llama/Llama-3.3-70B-Instruct-Turbo-Free\",\n",
    "                messages=[\n",
    "                    {\"role\": \"system\", \n",
    "                    \"content\": '''You are a structured agent. Follow the THINK-ACT-REFLECT format exactly.\n",
    "In the ACT step, if your action produces any concrete output (like a list, a plan, or steps), \n",
    "you MUST include that content in the ACT section.'''},\n",
    "                    {\"role\": \"user\", \"content\": prompt}\n",
    "                ]\n",
    "            )\n",
    "            reply = response.choices[0].message.content.strip()\n",
    "            if verbose:\n",
    "                print(reply)\n",
    "            memory += f\"\\n{reply}\"\n",
    "\n",
    "            if \"DONE\" in reply.upper():\n",
    "                break\n",
    "            step += 1\n",
    "\n",
    "        except Exception as e:\n",
    "            print(f\"Error during agent execution: {e}\")\n",
    "            break\n",
    "\n",
    "    return memory\n"
   ]
  },
  {
   "cell_type": "code",
   "execution_count": 3,
   "id": "259c810f-c134-4bed-a432-1164d6ba4fda",
   "metadata": {},
   "outputs": [
    {
     "name": "stdout",
     "output_type": "stream",
     "text": [
      "THINK: To achieve the goal, I first need to research existing customer churn strategies to understand the common approaches and best practices, and then identify the key elements that can be applied to a startup. This research will lay the foundation for creating a tailored 3-step action plan.\n",
      "\n",
      "ACT: I will conduct a preliminary research on customer churn strategies, focusing on retention techniques, feedback collection methods, and proactive engagement models. The output of this research includes a list of potential strategies: \n",
      "1. Regular Customer Feedback Surveys\n",
      "2. Personalized Engagement Campaigns\n",
      "3. Proactive Issue Resolution\n",
      "4. Loyalty and Rewards Programs\n",
      "5. Data-Driven Customer Segmentation\n",
      "\n",
      "REFLECT: The preliminary research has provided a foundation of strategies that can be considered for the startup's customer churn action plan. However, the goal is not yet fully complete, as the next steps involve narrowing down these strategies into a 3-step actionable plan tailored to a startup's specific needs and resources.\n",
      "THINK: To further progress toward the goal, I need to analyze the list of potential strategies and identify the most critical and feasible ones for a startup, considering factors such as resource efficiency and impact on customer retention. This analysis will help in narrowing down the options to create a focused 3-step action plan.\n",
      "\n",
      "ACT: I will prioritize the potential strategies based on their suitability for a startup, focusing on cost-effectiveness, ease of implementation, and potential for significant reduction in customer churn. The output of this prioritization is a 3-step action plan:\n",
      "1. Implement Regular Customer Feedback Surveys to understand customer needs and concerns.\n",
      "2. Develop Personalized Engagement Campaigns to enhance customer experience and build loyalty.\n",
      "3. Establish Proactive Issue Resolution processes to address customer complaints promptly and efficiently.\n",
      "\n",
      "REFLECT: With the creation of a 3-step action plan tailored to a startup's needs, the goal of researching customer churn strategies and developing a actionable plan is now complete. DONE\n"
     ]
    },
    {
     "data": {
      "text/plain": [
       "\"\\nTHINK: To achieve the goal, I first need to research existing customer churn strategies to understand the common approaches and best practices, and then identify the key elements that can be applied to a startup. This research will lay the foundation for creating a tailored 3-step action plan.\\n\\nACT: I will conduct a preliminary research on customer churn strategies, focusing on retention techniques, feedback collection methods, and proactive engagement models. The output of this research includes a list of potential strategies: \\n1. Regular Customer Feedback Surveys\\n2. Personalized Engagement Campaigns\\n3. Proactive Issue Resolution\\n4. Loyalty and Rewards Programs\\n5. Data-Driven Customer Segmentation\\n\\nREFLECT: The preliminary research has provided a foundation of strategies that can be considered for the startup's customer churn action plan. However, the goal is not yet fully complete, as the next steps involve narrowing down these strategies into a 3-step actionable plan tailored to a startup's specific needs and resources.\\nTHINK: To further progress toward the goal, I need to analyze the list of potential strategies and identify the most critical and feasible ones for a startup, considering factors such as resource efficiency and impact on customer retention. This analysis will help in narrowing down the options to create a focused 3-step action plan.\\n\\nACT: I will prioritize the potential strategies based on their suitability for a startup, focusing on cost-effectiveness, ease of implementation, and potential for significant reduction in customer churn. The output of this prioritization is a 3-step action plan:\\n1. Implement Regular Customer Feedback Surveys to understand customer needs and concerns.\\n2. Develop Personalized Engagement Campaigns to enhance customer experience and build loyalty.\\n3. Establish Proactive Issue Resolution processes to address customer complaints promptly and efficiently.\\n\\nREFLECT: With the creation of a 3-step action plan tailored to a startup's needs, the goal of researching customer churn strategies and developing a actionable plan is now complete. DONE\""
      ]
     },
     "execution_count": 3,
     "metadata": {},
     "output_type": "execute_result"
    }
   ],
   "source": [
    "run_agent(\"Research customer churn strategies and write a 3-step action plan for a startup.\")"
   ]
  },
  {
   "cell_type": "markdown",
   "id": "68f5e661-038d-4433-a94a-65c5bf1e4dce",
   "metadata": {},
   "source": [
    "### **Modified version to show only the final actionable output**"
   ]
  },
  {
   "cell_type": "code",
   "execution_count": 4,
   "id": "2381ae6e-cc63-4f30-82e7-f14757904178",
   "metadata": {},
   "outputs": [],
   "source": [
    "from together import Together\n",
    "from dotenv import load_dotenv\n",
    "import os\n",
    "\n",
    "load_dotenv()\n",
    "client = Together()\n",
    "\n",
    "def run_agent(goal, memory=\"\", max_steps=10):\n",
    "    step = 0\n",
    "    while step < max_steps:\n",
    "        prompt = f\"\"\"You are a strategic business agent working step-by-step toward a goal.\n",
    "\n",
    "Your GOAL: {goal}\n",
    "\n",
    "Your MEMORY (what you've accomplished so far):\n",
    "{memory if memory else \"Starting fresh - no previous work done.\"}\n",
    "\n",
    "Instructions:\n",
    "- THINK: What needs to be done next (1–2 sentences)\n",
    "- ACT: Do ONE specific action. If this action produces output (like a report or plan), include that output in this section.\n",
    "- REFLECT: Evaluate your progress. Say \"DONE\" only if the goal is fully complete.\n",
    "\n",
    "Use this exact format:\n",
    "THINK: ...\n",
    "ACT: ...\n",
    "REFLECT: ...\n",
    "\"\"\".strip()\n",
    "\n",
    "        try:\n",
    "            response = client.chat.completions.create(\n",
    "                model=\"meta-llama/Llama-3.3-70B-Instruct-Turbo-Free\",\n",
    "                messages=[\n",
    "                    {\"role\": \"system\", \n",
    "                    \"content\": '''You are a structured agent. Follow the THINK-ACT-REFLECT format exactly.\n",
    "In the ACT step, if your action produces any concrete output (like a list, a plan, or steps), \n",
    "you MUST include that content in the ACT section.'''},\n",
    "                    {\"role\": \"user\", \"content\": prompt}\n",
    "                ]\n",
    "            )\n",
    "            reply = response.choices[0].message.content.strip()\n",
    "            memory += f\"\\n{reply}\"\n",
    "\n",
    "            if \"DONE\" in reply.upper():\n",
    "                break\n",
    "            step += 1\n",
    "\n",
    "        except Exception as e:\n",
    "            print(f\"Error during agent execution: {e}\")\n",
    "            break\n",
    "\n",
    "    act_blocks = []\n",
    "    for cycle in memory.split(\"THINK:\"):\n",
    "        if \"ACT:\" in cycle:\n",
    "            act_blocks.append(cycle.split(\"ACT:\")[1].split(\"REFLECT:\")[0].strip())\n",
    "    for i, act in enumerate(act_blocks):\n",
    "        print(f\"Step {i+1} ACT:\\n{act}\\n\")"
   ]
  },
  {
   "cell_type": "code",
   "execution_count": 5,
   "id": "82f3d0a1-b6d6-4254-82ad-54733ece4202",
   "metadata": {},
   "outputs": [
    {
     "name": "stdout",
     "output_type": "stream",
     "text": [
      "Step 1 ACT:\n",
      "I will conduct a preliminary research on customer churn strategies, focusing on retention techniques, feedback collection methods, and proactive engagement models. The output of this research includes a list of potential strategies: \n",
      "1. Regular Customer Feedback Surveys\n",
      "2. Personalized Engagement Campaigns\n",
      "3. Proactive Issue Resolution\n",
      "4. Loyalty and Rewards Programs\n",
      "5. Data-Driven Customer Segmentation\n",
      "\n",
      "Step 2 ACT:\n",
      "I will prioritize the potential strategies based on their impact, cost, and ease of implementation for a startup, resulting in a narrowed-down list of the top 3 strategies: \n",
      "1. Regular Customer Feedback Surveys to understand and address customer concerns promptly.\n",
      "2. Personalized Engagement Campaigns to build strong customer relationships and enhance their experience.\n",
      "3. Proactive Issue Resolution to minimize churn by resolving customer issues before they escalate.\n",
      "\n",
      "Step 3 ACT:\n",
      "I will create a detailed 3-step action plan for the startup, incorporating the selected strategies:\n",
      "1. **Step 1: Implement Regular Customer Feedback Surveys** - Conduct monthly surveys to gather customer insights, with a dedicated team member responsible for analyzing feedback and proposing actions within one week of each survey.\n",
      "2. **Step 2: Launch Personalized Engagement Campaigns** - Develop and execute quarterly personalized campaigns based on customer segmentation, aiming to enhance customer experience and build strong relationships, with metrics to track engagement and campaign success.\n",
      "3. **Step 3: Establish Proactive Issue Resolution Processes** - Set up a proactive issue resolution system, where customer complaints are addressed within 24 hours, and implement a follow-up mechanism to ensure issues are fully resolved and customers are satisfied.\n",
      "\n"
     ]
    }
   ],
   "source": [
    "run_agent(\"Research customer churn strategies and write a 3-step action plan for a startup.\")"
   ]
  }
 ],
 "metadata": {
  "kernelspec": {
   "display_name": "Python [conda env:base] *",
   "language": "python",
   "name": "conda-base-py"
  },
  "language_info": {
   "codemirror_mode": {
    "name": "ipython",
    "version": 3
   },
   "file_extension": ".py",
   "mimetype": "text/x-python",
   "name": "python",
   "nbconvert_exporter": "python",
   "pygments_lexer": "ipython3",
   "version": "3.13.5"
  }
 },
 "nbformat": 4,
 "nbformat_minor": 5
}
