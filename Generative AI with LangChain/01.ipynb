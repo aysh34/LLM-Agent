{
 "cells": [
  {
   "cell_type": "code",
   "execution_count": 1,
   "id": "24d1717d",
   "metadata": {
    "scrolled": true,
    "vscode": {
     "languageId": "plaintext"
    }
   },
   "outputs": [
    {
     "name": "stdout",
     "output_type": "stream",
     "text": [
      "Requirement already satisfied: langchain-google-genai in d:\\anaconda3\\lib\\site-packages (2.1.9)\n",
      "Requirement already satisfied: langchain_anthropic in d:\\anaconda3\\lib\\site-packages (0.3.19)\n",
      "Requirement already satisfied: langchain_openai in d:\\anaconda3\\lib\\site-packages (0.3.30)\n",
      "Requirement already satisfied: langchain-groq in d:\\anaconda3\\lib\\site-packages (0.3.7)\n",
      "Collecting langchain_meta\n",
      "  Using cached langchain_meta-0.4.2-py3-none-any.whl.metadata (8.2 kB)\n",
      "Collecting llama-cpp-python\n",
      "  Using cached llama_cpp_python-0.3.16.tar.gz (50.7 MB)\n",
      "  Installing build dependencies: started\n",
      "  Installing build dependencies: finished with status 'done'\n",
      "  Getting requirements to build wheel: started\n",
      "  Getting requirements to build wheel: finished with status 'done'\n",
      "  Installing backend dependencies: started\n",
      "  Installing backend dependencies: finished with status 'done'\n",
      "  Preparing metadata (pyproject.toml): started\n",
      "  Preparing metadata (pyproject.toml): finished with status 'done'\n",
      "Requirement already satisfied: python-dotenv in d:\\anaconda3\\lib\\site-packages (1.1.0)\n",
      "Requirement already satisfied: filetype<2.0.0,>=1.2.0 in d:\\anaconda3\\lib\\site-packages (from langchain-google-genai) (1.2.0)\n",
      "Requirement already satisfied: google-ai-generativelanguage<0.7.0,>=0.6.18 in d:\\anaconda3\\lib\\site-packages (from langchain-google-genai) (0.6.18)\n",
      "Requirement already satisfied: langchain-core<0.4.0,>=0.3.68 in d:\\anaconda3\\lib\\site-packages (from langchain-google-genai) (0.3.74)\n",
      "Requirement already satisfied: pydantic<3,>=2 in d:\\anaconda3\\lib\\site-packages (from langchain-google-genai) (2.10.3)\n",
      "Requirement already satisfied: google-api-core!=2.0.*,!=2.1.*,!=2.10.*,!=2.2.*,!=2.3.*,!=2.4.*,!=2.5.*,!=2.6.*,!=2.7.*,!=2.8.*,!=2.9.*,<3.0.0,>=1.34.1 in d:\\anaconda3\\lib\\site-packages (from google-api-core[grpc]!=2.0.*,!=2.1.*,!=2.10.*,!=2.2.*,!=2.3.*,!=2.4.*,!=2.5.*,!=2.6.*,!=2.7.*,!=2.8.*,!=2.9.*,<3.0.0,>=1.34.1->google-ai-generativelanguage<0.7.0,>=0.6.18->langchain-google-genai) (2.25.1)\n",
      "Requirement already satisfied: google-auth!=2.24.0,!=2.25.0,<3.0.0,>=2.14.1 in d:\\anaconda3\\lib\\site-packages (from google-ai-generativelanguage<0.7.0,>=0.6.18->langchain-google-genai) (2.40.3)\n",
      "Requirement already satisfied: proto-plus<2.0.0,>=1.22.3 in d:\\anaconda3\\lib\\site-packages (from google-ai-generativelanguage<0.7.0,>=0.6.18->langchain-google-genai) (1.26.1)\n",
      "Requirement already satisfied: protobuf!=4.21.0,!=4.21.1,!=4.21.2,!=4.21.3,!=4.21.4,!=4.21.5,<7.0.0,>=3.20.2 in d:\\anaconda3\\lib\\site-packages (from google-ai-generativelanguage<0.7.0,>=0.6.18->langchain-google-genai) (6.32.0)\n",
      "Requirement already satisfied: googleapis-common-protos<2.0.0,>=1.56.2 in d:\\anaconda3\\lib\\site-packages (from google-api-core!=2.0.*,!=2.1.*,!=2.10.*,!=2.2.*,!=2.3.*,!=2.4.*,!=2.5.*,!=2.6.*,!=2.7.*,!=2.8.*,!=2.9.*,<3.0.0,>=1.34.1->google-api-core[grpc]!=2.0.*,!=2.1.*,!=2.10.*,!=2.2.*,!=2.3.*,!=2.4.*,!=2.5.*,!=2.6.*,!=2.7.*,!=2.8.*,!=2.9.*,<3.0.0,>=1.34.1->google-ai-generativelanguage<0.7.0,>=0.6.18->langchain-google-genai) (1.70.0)\n",
      "Requirement already satisfied: requests<3.0.0,>=2.18.0 in d:\\anaconda3\\lib\\site-packages (from google-api-core!=2.0.*,!=2.1.*,!=2.10.*,!=2.2.*,!=2.3.*,!=2.4.*,!=2.5.*,!=2.6.*,!=2.7.*,!=2.8.*,!=2.9.*,<3.0.0,>=1.34.1->google-api-core[grpc]!=2.0.*,!=2.1.*,!=2.10.*,!=2.2.*,!=2.3.*,!=2.4.*,!=2.5.*,!=2.6.*,!=2.7.*,!=2.8.*,!=2.9.*,<3.0.0,>=1.34.1->google-ai-generativelanguage<0.7.0,>=0.6.18->langchain-google-genai) (2.32.3)\n",
      "Requirement already satisfied: grpcio<2.0.0,>=1.33.2 in d:\\anaconda3\\lib\\site-packages (from google-api-core[grpc]!=2.0.*,!=2.1.*,!=2.10.*,!=2.2.*,!=2.3.*,!=2.4.*,!=2.5.*,!=2.6.*,!=2.7.*,!=2.8.*,!=2.9.*,<3.0.0,>=1.34.1->google-ai-generativelanguage<0.7.0,>=0.6.18->langchain-google-genai) (1.74.0)\n",
      "Requirement already satisfied: grpcio-status<2.0.0,>=1.33.2 in d:\\anaconda3\\lib\\site-packages (from google-api-core[grpc]!=2.0.*,!=2.1.*,!=2.10.*,!=2.2.*,!=2.3.*,!=2.4.*,!=2.5.*,!=2.6.*,!=2.7.*,!=2.8.*,!=2.9.*,<3.0.0,>=1.34.1->google-ai-generativelanguage<0.7.0,>=0.6.18->langchain-google-genai) (1.74.0)\n",
      "Requirement already satisfied: cachetools<6.0,>=2.0.0 in d:\\anaconda3\\lib\\site-packages (from google-auth!=2.24.0,!=2.25.0,<3.0.0,>=2.14.1->google-ai-generativelanguage<0.7.0,>=0.6.18->langchain-google-genai) (5.5.1)\n",
      "Requirement already satisfied: pyasn1-modules>=0.2.1 in d:\\anaconda3\\lib\\site-packages (from google-auth!=2.24.0,!=2.25.0,<3.0.0,>=2.14.1->google-ai-generativelanguage<0.7.0,>=0.6.18->langchain-google-genai) (0.2.8)\n",
      "Requirement already satisfied: rsa<5,>=3.1.4 in d:\\anaconda3\\lib\\site-packages (from google-auth!=2.24.0,!=2.25.0,<3.0.0,>=2.14.1->google-ai-generativelanguage<0.7.0,>=0.6.18->langchain-google-genai) (4.9.1)\n",
      "Requirement already satisfied: langsmith>=0.3.45 in d:\\anaconda3\\lib\\site-packages (from langchain-core<0.4.0,>=0.3.68->langchain-google-genai) (0.4.15)\n",
      "Requirement already satisfied: tenacity!=8.4.0,<10.0.0,>=8.1.0 in d:\\anaconda3\\lib\\site-packages (from langchain-core<0.4.0,>=0.3.68->langchain-google-genai) (9.0.0)\n",
      "Requirement already satisfied: jsonpatch<2.0,>=1.33 in d:\\anaconda3\\lib\\site-packages (from langchain-core<0.4.0,>=0.3.68->langchain-google-genai) (1.33)\n",
      "Requirement already satisfied: PyYAML>=5.3 in d:\\anaconda3\\lib\\site-packages (from langchain-core<0.4.0,>=0.3.68->langchain-google-genai) (6.0.2)\n",
      "Requirement already satisfied: typing-extensions>=4.7 in d:\\anaconda3\\lib\\site-packages (from langchain-core<0.4.0,>=0.3.68->langchain-google-genai) (4.12.2)\n",
      "Requirement already satisfied: packaging>=23.2 in d:\\anaconda3\\lib\\site-packages (from langchain-core<0.4.0,>=0.3.68->langchain-google-genai) (24.2)\n",
      "Requirement already satisfied: jsonpointer>=1.9 in d:\\anaconda3\\lib\\site-packages (from jsonpatch<2.0,>=1.33->langchain-core<0.4.0,>=0.3.68->langchain-google-genai) (2.1)\n",
      "Requirement already satisfied: annotated-types>=0.6.0 in d:\\anaconda3\\lib\\site-packages (from pydantic<3,>=2->langchain-google-genai) (0.6.0)\n",
      "Requirement already satisfied: pydantic-core==2.27.1 in d:\\anaconda3\\lib\\site-packages (from pydantic<3,>=2->langchain-google-genai) (2.27.1)\n",
      "Requirement already satisfied: charset-normalizer<4,>=2 in d:\\anaconda3\\lib\\site-packages (from requests<3.0.0,>=2.18.0->google-api-core!=2.0.*,!=2.1.*,!=2.10.*,!=2.2.*,!=2.3.*,!=2.4.*,!=2.5.*,!=2.6.*,!=2.7.*,!=2.8.*,!=2.9.*,<3.0.0,>=1.34.1->google-api-core[grpc]!=2.0.*,!=2.1.*,!=2.10.*,!=2.2.*,!=2.3.*,!=2.4.*,!=2.5.*,!=2.6.*,!=2.7.*,!=2.8.*,!=2.9.*,<3.0.0,>=1.34.1->google-ai-generativelanguage<0.7.0,>=0.6.18->langchain-google-genai) (3.3.2)\n",
      "Requirement already satisfied: idna<4,>=2.5 in d:\\anaconda3\\lib\\site-packages (from requests<3.0.0,>=2.18.0->google-api-core!=2.0.*,!=2.1.*,!=2.10.*,!=2.2.*,!=2.3.*,!=2.4.*,!=2.5.*,!=2.6.*,!=2.7.*,!=2.8.*,!=2.9.*,<3.0.0,>=1.34.1->google-api-core[grpc]!=2.0.*,!=2.1.*,!=2.10.*,!=2.2.*,!=2.3.*,!=2.4.*,!=2.5.*,!=2.6.*,!=2.7.*,!=2.8.*,!=2.9.*,<3.0.0,>=1.34.1->google-ai-generativelanguage<0.7.0,>=0.6.18->langchain-google-genai) (3.7)\n",
      "Requirement already satisfied: urllib3<3,>=1.21.1 in d:\\anaconda3\\lib\\site-packages (from requests<3.0.0,>=2.18.0->google-api-core!=2.0.*,!=2.1.*,!=2.10.*,!=2.2.*,!=2.3.*,!=2.4.*,!=2.5.*,!=2.6.*,!=2.7.*,!=2.8.*,!=2.9.*,<3.0.0,>=1.34.1->google-api-core[grpc]!=2.0.*,!=2.1.*,!=2.10.*,!=2.2.*,!=2.3.*,!=2.4.*,!=2.5.*,!=2.6.*,!=2.7.*,!=2.8.*,!=2.9.*,<3.0.0,>=1.34.1->google-ai-generativelanguage<0.7.0,>=0.6.18->langchain-google-genai) (2.3.0)\n",
      "Requirement already satisfied: certifi>=2017.4.17 in d:\\anaconda3\\lib\\site-packages (from requests<3.0.0,>=2.18.0->google-api-core!=2.0.*,!=2.1.*,!=2.10.*,!=2.2.*,!=2.3.*,!=2.4.*,!=2.5.*,!=2.6.*,!=2.7.*,!=2.8.*,!=2.9.*,<3.0.0,>=1.34.1->google-api-core[grpc]!=2.0.*,!=2.1.*,!=2.10.*,!=2.2.*,!=2.3.*,!=2.4.*,!=2.5.*,!=2.6.*,!=2.7.*,!=2.8.*,!=2.9.*,<3.0.0,>=1.34.1->google-ai-generativelanguage<0.7.0,>=0.6.18->langchain-google-genai) (2025.8.3)\n",
      "Requirement already satisfied: pyasn1>=0.1.3 in d:\\anaconda3\\lib\\site-packages (from rsa<5,>=3.1.4->google-auth!=2.24.0,!=2.25.0,<3.0.0,>=2.14.1->google-ai-generativelanguage<0.7.0,>=0.6.18->langchain-google-genai) (0.4.8)\n",
      "Requirement already satisfied: anthropic<1,>=0.64.0 in d:\\anaconda3\\lib\\site-packages (from langchain_anthropic) (0.64.0)\n",
      "Requirement already satisfied: anyio<5,>=3.5.0 in d:\\anaconda3\\lib\\site-packages (from anthropic<1,>=0.64.0->langchain_anthropic) (4.7.0)\n",
      "Requirement already satisfied: distro<2,>=1.7.0 in d:\\anaconda3\\lib\\site-packages (from anthropic<1,>=0.64.0->langchain_anthropic) (1.9.0)\n",
      "Requirement already satisfied: httpx<1,>=0.25.0 in d:\\anaconda3\\lib\\site-packages (from anthropic<1,>=0.64.0->langchain_anthropic) (0.28.1)\n",
      "Requirement already satisfied: jiter<1,>=0.4.0 in d:\\anaconda3\\lib\\site-packages (from anthropic<1,>=0.64.0->langchain_anthropic) (0.10.0)\n",
      "Requirement already satisfied: sniffio in d:\\anaconda3\\lib\\site-packages (from anthropic<1,>=0.64.0->langchain_anthropic) (1.3.0)\n",
      "Requirement already satisfied: httpcore==1.* in d:\\anaconda3\\lib\\site-packages (from httpx<1,>=0.25.0->anthropic<1,>=0.64.0->langchain_anthropic) (1.0.9)\n",
      "Requirement already satisfied: h11>=0.16 in d:\\anaconda3\\lib\\site-packages (from httpcore==1.*->httpx<1,>=0.25.0->anthropic<1,>=0.64.0->langchain_anthropic) (0.16.0)\n",
      "Requirement already satisfied: openai<2.0.0,>=1.99.9 in d:\\anaconda3\\lib\\site-packages (from langchain_openai) (1.100.2)\n",
      "Requirement already satisfied: tiktoken<1,>=0.7 in d:\\anaconda3\\lib\\site-packages (from langchain_openai) (0.11.0)\n",
      "Requirement already satisfied: tqdm>4 in d:\\anaconda3\\lib\\site-packages (from openai<2.0.0,>=1.99.9->langchain_openai) (4.67.1)\n",
      "Requirement already satisfied: regex>=2022.1.18 in d:\\anaconda3\\lib\\site-packages (from tiktoken<1,>=0.7->langchain_openai) (2024.11.6)\n",
      "Requirement already satisfied: groq<1,>=0.30.0 in d:\\anaconda3\\lib\\site-packages (from langchain-groq) (0.31.0)\n",
      "Collecting langchain>=0.3.25 (from langchain_meta)\n",
      "  Downloading langchain-0.3.27-py3-none-any.whl.metadata (7.8 kB)\n",
      "Collecting llama-api-client>=0.1.0 (from langchain_meta)\n",
      "  Downloading llama_api_client-0.2.0-py3-none-any.whl.metadata (16 kB)\n",
      "Requirement already satisfied: pytest>=7.4.0 in d:\\anaconda3\\lib\\site-packages (from langchain_meta) (8.3.4)\n",
      "Collecting pytest-asyncio>=0.23.0 (from langchain_meta)\n",
      "  Downloading pytest_asyncio-1.1.0-py3-none-any.whl.metadata (4.1 kB)\n",
      "Collecting twine>=6.0.0 (from langchain_meta)\n",
      "  Downloading twine-6.1.0-py3-none-any.whl.metadata (3.7 kB)\n",
      "Requirement already satisfied: numpy>=1.20.0 in d:\\anaconda3\\lib\\site-packages (from llama-cpp-python) (2.3.1)\n",
      "Collecting diskcache>=5.6.1 (from llama-cpp-python)\n",
      "  Using cached diskcache-5.6.3-py3-none-any.whl.metadata (20 kB)\n",
      "Requirement already satisfied: jinja2>=2.11.3 in d:\\anaconda3\\lib\\site-packages (from llama-cpp-python) (3.1.6)\n",
      "Requirement already satisfied: MarkupSafe>=2.0 in d:\\anaconda3\\lib\\site-packages (from jinja2>=2.11.3->llama-cpp-python) (3.0.2)\n",
      "Collecting langchain-text-splitters<1.0.0,>=0.3.9 (from langchain>=0.3.25->langchain_meta)\n",
      "  Downloading langchain_text_splitters-0.3.9-py3-none-any.whl.metadata (1.9 kB)\n",
      "Requirement already satisfied: SQLAlchemy<3,>=1.4 in d:\\anaconda3\\lib\\site-packages (from langchain>=0.3.25->langchain_meta) (2.0.39)\n",
      "Requirement already satisfied: greenlet!=0.4.17 in d:\\anaconda3\\lib\\site-packages (from SQLAlchemy<3,>=1.4->langchain>=0.3.25->langchain_meta) (3.1.1)\n",
      "Requirement already satisfied: orjson>=3.9.14 in d:\\anaconda3\\lib\\site-packages (from langsmith>=0.3.45->langchain-core<0.4.0,>=0.3.68->langchain-google-genai) (3.11.2)\n",
      "Requirement already satisfied: requests-toolbelt>=1.0.0 in d:\\anaconda3\\lib\\site-packages (from langsmith>=0.3.45->langchain-core<0.4.0,>=0.3.68->langchain-google-genai) (1.0.0)\n",
      "Requirement already satisfied: zstandard>=0.23.0 in d:\\anaconda3\\lib\\site-packages (from langsmith>=0.3.45->langchain-core<0.4.0,>=0.3.68->langchain-google-genai) (0.23.0)\n",
      "Requirement already satisfied: colorama in d:\\anaconda3\\lib\\site-packages (from pytest>=7.4.0->langchain_meta) (0.4.6)\n",
      "Requirement already satisfied: iniconfig in d:\\anaconda3\\lib\\site-packages (from pytest>=7.4.0->langchain_meta) (1.1.1)\n",
      "Requirement already satisfied: pluggy<2,>=1.5 in d:\\anaconda3\\lib\\site-packages (from pytest>=7.4.0->langchain_meta) (1.5.0)\n",
      "Collecting readme-renderer>=35.0 (from twine>=6.0.0->langchain_meta)\n",
      "  Downloading readme_renderer-44.0-py3-none-any.whl.metadata (2.8 kB)\n",
      "Requirement already satisfied: keyring>=15.1 in d:\\anaconda3\\lib\\site-packages (from twine>=6.0.0->langchain_meta) (25.6.0)\n",
      "Collecting rfc3986>=1.4.0 (from twine>=6.0.0->langchain_meta)\n",
      "  Downloading rfc3986-2.0.0-py2.py3-none-any.whl.metadata (6.6 kB)\n",
      "Requirement already satisfied: rich>=12.0.0 in d:\\anaconda3\\lib\\site-packages (from twine>=6.0.0->langchain_meta) (13.9.4)\n",
      "Collecting id (from twine>=6.0.0->langchain_meta)\n",
      "  Downloading id-1.5.0-py3-none-any.whl.metadata (5.2 kB)\n",
      "Requirement already satisfied: pywin32-ctypes>=0.2.0 in d:\\anaconda3\\lib\\site-packages (from keyring>=15.1->twine>=6.0.0->langchain_meta) (0.2.2)\n",
      "Requirement already satisfied: jaraco.classes in d:\\anaconda3\\lib\\site-packages (from keyring>=15.1->twine>=6.0.0->langchain_meta) (3.2.1)\n",
      "Requirement already satisfied: jaraco.functools in d:\\anaconda3\\lib\\site-packages (from keyring>=15.1->twine>=6.0.0->langchain_meta) (4.1.0)\n",
      "Requirement already satisfied: jaraco.context in d:\\anaconda3\\lib\\site-packages (from keyring>=15.1->twine>=6.0.0->langchain_meta) (0.0.0)\n",
      "Collecting nh3>=0.2.14 (from readme-renderer>=35.0->twine>=6.0.0->langchain_meta)\n",
      "  Downloading nh3-0.3.0-cp38-abi3-win_amd64.whl.metadata (2.1 kB)\n",
      "Requirement already satisfied: docutils>=0.21.2 in d:\\anaconda3\\lib\\site-packages (from readme-renderer>=35.0->twine>=6.0.0->langchain_meta) (0.21.2)\n",
      "Requirement already satisfied: Pygments>=2.5.1 in d:\\anaconda3\\lib\\site-packages (from readme-renderer>=35.0->twine>=6.0.0->langchain_meta) (2.19.1)\n",
      "Requirement already satisfied: markdown-it-py>=2.2.0 in d:\\anaconda3\\lib\\site-packages (from rich>=12.0.0->twine>=6.0.0->langchain_meta) (2.2.0)\n",
      "Requirement already satisfied: mdurl~=0.1 in d:\\anaconda3\\lib\\site-packages (from markdown-it-py>=2.2.0->rich>=12.0.0->twine>=6.0.0->langchain_meta) (0.1.0)\n",
      "Requirement already satisfied: more-itertools in d:\\anaconda3\\lib\\site-packages (from jaraco.classes->keyring>=15.1->twine>=6.0.0->langchain_meta) (10.3.0)\n",
      "Downloading langchain_meta-0.4.2-py3-none-any.whl (48 kB)\n",
      "Using cached diskcache-5.6.3-py3-none-any.whl (45 kB)\n",
      "Downloading langchain-0.3.27-py3-none-any.whl (1.0 MB)\n",
      "   ---------------------------------------- 0.0/1.0 MB ? eta -:--:--\n",
      "   ---------------------------------------- 1.0/1.0 MB 6.3 MB/s  0:00:00\n",
      "Downloading langchain_text_splitters-0.3.9-py3-none-any.whl (33 kB)\n",
      "Downloading llama_api_client-0.2.0-py3-none-any.whl (85 kB)\n",
      "Downloading pytest_asyncio-1.1.0-py3-none-any.whl (15 kB)\n",
      "Downloading twine-6.1.0-py3-none-any.whl (40 kB)\n",
      "Downloading readme_renderer-44.0-py3-none-any.whl (13 kB)\n",
      "Downloading nh3-0.3.0-cp38-abi3-win_amd64.whl (604 kB)\n",
      "   ---------------------------------------- 0.0/604.5 kB ? eta -:--:--\n",
      "   ---------------------------------------- 604.5/604.5 kB 11.6 MB/s  0:00:00\n",
      "Downloading rfc3986-2.0.0-py2.py3-none-any.whl (31 kB)\n",
      "Downloading id-1.5.0-py3-none-any.whl (13 kB)\n",
      "Building wheels for collected packages: llama-cpp-python\n",
      "  Building wheel for llama-cpp-python (pyproject.toml): started\n",
      "  Building wheel for llama-cpp-python (pyproject.toml): finished with status 'error'\n",
      "Failed to build llama-cpp-python\n"
     ]
    },
    {
     "name": "stderr",
     "output_type": "stream",
     "text": [
      "WARNING: Ignoring invalid distribution ~otebook (D:\\Anaconda3\\Lib\\site-packages)\n",
      "  error: subprocess-exited-with-error\n",
      "  \n",
      "  Building wheel for llama-cpp-python (pyproject.toml) did not run successfully.\n",
      "  exit code: 1\n",
      "  \n",
      "  [19 lines of output]\n",
      "  \u001b[32m*** \u001b[1mscikit-build-core 0.11.5\u001b[0m using \u001b[34mCMake 4.1.0\u001b[39m\u001b[0m \u001b[31m(wheel)\u001b[0m\n",
      "  \u001b[32m***\u001b[0m \u001b[1mConfiguring CMake...\u001b[0m\n",
      "  loading initial cache file C:\\Users\\11\\AppData\\Local\\Temp\\tmpm397h0vu\\build\\CMakeInit.txt\n",
      "  -- Building for: NMake Makefiles\n",
      "  \u001b[31mCMake Error at CMakeLists.txt:3 (project):\n",
      "    Running\n",
      "  \n",
      "     'nmake' '-?'\n",
      "  \n",
      "    failed with:\n",
      "  \n",
      "     no such file or directory\n",
      "  \n",
      "  \u001b[0m\n",
      "  \u001b[0mCMake Error: CMAKE_C_COMPILER not set, after EnableLanguage\u001b[0m\n",
      "  \u001b[0mCMake Error: CMAKE_CXX_COMPILER not set, after EnableLanguage\u001b[0m\n",
      "  -- Configuring incomplete, errors occurred!\n",
      "  \u001b[31m\n",
      "  \u001b[1m***\u001b[0m \u001b[31mCMake configuration failed\u001b[0m\n",
      "  [end of output]\n",
      "  \n",
      "  note: This error originates from a subprocess, and is likely not a problem with pip.\n",
      "  ERROR: Failed building wheel for llama-cpp-python\n",
      "error: failed-wheel-build-for-install\n",
      "\n",
      "Failed to build installable wheels for some pyproject.toml based projects\n",
      "\n",
      "llama-cpp-python\n"
     ]
    }
   ],
   "source": [
    "!pip install langchain-google-genai langchain_anthropic langchain_openai langchain-groq langchain_meta llama-cpp-python python-dotenv"
   ]
  },
  {
   "cell_type": "code",
   "execution_count": 2,
   "id": "c4bdba03-9ae8-46e2-b2ac-15956b843a02",
   "metadata": {},
   "outputs": [],
   "source": [
    "from langchain_google_genai import ChatGoogleGenerativeAI\n",
    "from langchain_anthropic import ChatAnthropic\n",
    "from langchain_openai import ChatOpenAI\n",
    "from langchain_groq import ChatGroq\n",
    "from dotenv import load_dotenv\n",
    "import os"
   ]
  },
  {
   "cell_type": "code",
   "execution_count": 3,
   "id": "f66929a6-e731-4849-a73a-3dfdf5558489",
   "metadata": {},
   "outputs": [
    {
     "data": {
      "text/plain": [
       "True"
      ]
     },
     "execution_count": 3,
     "metadata": {},
     "output_type": "execute_result"
    }
   ],
   "source": [
    "load_dotenv()"
   ]
  },
  {
   "cell_type": "code",
   "execution_count": 4,
   "id": "a8d42cf8-6b88-4b00-9811-c59ceaaabd97",
   "metadata": {},
   "outputs": [],
   "source": [
    "model = ChatGoogleGenerativeAI(model = 'gemini-1.5-flash', api_key = os.getenv(\"GOOGLE_API_KEY\"))"
   ]
  },
  {
   "cell_type": "code",
   "execution_count": 5,
   "id": "60c895dd-a660-450d-91eb-a57ec69f859c",
   "metadata": {},
   "outputs": [
    {
     "data": {
      "text/plain": [
       "'Deep learning (DL) is a *subset* of machine learning (ML) that uses artificial neural networks with multiple layers (hence \"deep\") to analyze data.  ML encompasses a broader range of algorithms, while DL focuses on learning complex patterns from raw data using these layered networks.  DL excels at tasks requiring high-level feature extraction, where ML might need explicit feature engineering.'"
      ]
     },
     "execution_count": 5,
     "metadata": {},
     "output_type": "execute_result"
    }
   ],
   "source": [
    "model.invoke(\"How DL is different from ML, answer me in few lines\").content"
   ]
  },
  {
   "cell_type": "code",
   "execution_count": 6,
   "id": "2871981d-7a6e-4d6a-a277-08ef173c95a0",
   "metadata": {},
   "outputs": [],
   "source": [
    "# model = ChatAnthropic(model = 'claude-3-5-sonnet-20241022', api_key = os.getenv(\"ANTHROPIC_API_KEY\"))\n",
    "# model.invoke(\"How DL is different from ML, answer me in few lines\").content"
   ]
  },
  {
   "cell_type": "code",
   "execution_count": 7,
   "id": "68726cc2-e072-412b-ab67-0d9703ffce9d",
   "metadata": {},
   "outputs": [
    {
     "data": {
      "text/plain": [
       "'**Deep Learning (DL) vs Machine Learning (ML)**\\n\\nThe primary difference between **Deep Learning (DL)** and **Machine Learning (ML)** lies in the complexity of the algorithms and the size of the data that can be handled.\\n\\n- **ML** is a broader concept that includes all types of learning from data, including simple linear regression and logistic regression.\\n- **DL** is a type of ML that specifically utilizes neural networks with numerous layers to automatically and incrementally learn, feature detection/extraction, patterns, and relationships.\\n\\nIn summary, **ML** is a superset of **DL**, and **DL** represents a subset of complex ML techniques utilizing neural networks and multiple interconnected processing layers.'"
      ]
     },
     "execution_count": 7,
     "metadata": {},
     "output_type": "execute_result"
    }
   ],
   "source": [
    "model = ChatGroq(\n",
    "    model=\"llama-3.1-8b-instant\",\n",
    "    temperature=1.5,\n",
    "    max_retries=2,\n",
    "    api_key= os.getenv(\"GROQ_API_KEY\")\n",
    ")\n",
    "model.invoke(\"How DL is different from ML, answer me in few lines\").content"
   ]
  },
  {
   "cell_type": "code",
   "execution_count": 8,
   "id": "ced700ae-7e67-4c83-b8af-0f9d237de258",
   "metadata": {},
   "outputs": [
    {
     "ename": "ModuleNotFoundError",
     "evalue": "No module named 'langchain_meta'",
     "output_type": "error",
     "traceback": [
      "\u001b[1;31m---------------------------------------------------------------------------\u001b[0m",
      "\u001b[1;31mModuleNotFoundError\u001b[0m                       Traceback (most recent call last)",
      "Cell \u001b[1;32mIn[8], line 1\u001b[0m\n\u001b[1;32m----> 1\u001b[0m \u001b[38;5;28;01mfrom\u001b[39;00m\u001b[38;5;250m \u001b[39m\u001b[38;5;21;01mlangchain_meta\u001b[39;00m\u001b[38;5;250m \u001b[39m\u001b[38;5;28;01mimport\u001b[39;00m ChatLlama\n\u001b[0;32m      3\u001b[0m llama \u001b[38;5;241m=\u001b[39m ChatLlama(api_key\u001b[38;5;241m=\u001b[39m\u001b[38;5;124m\"\u001b[39m\u001b[38;5;124mYOUR_API_KEY\u001b[39m\u001b[38;5;124m\"\u001b[39m, model\u001b[38;5;241m=\u001b[39m\u001b[38;5;124m\"\u001b[39m\u001b[38;5;124mllama-4-13b-chat\u001b[39m\u001b[38;5;124m\"\u001b[39m)\n\u001b[0;32m      5\u001b[0m response \u001b[38;5;241m=\u001b[39m llama\u001b[38;5;241m.\u001b[39minvoke(\u001b[38;5;124m\"\u001b[39m\u001b[38;5;124mExplain the concept of quantum entanglement.\u001b[39m\u001b[38;5;124m\"\u001b[39m)\n",
      "\u001b[1;31mModuleNotFoundError\u001b[0m: No module named 'langchain_meta'"
     ]
    }
   ],
   "source": [
    "from langchain_meta import ChatLlama\n",
    "\n",
    "llama = ChatLlama(api_key=\"YOUR_API_KEY\", model=\"llama-4-13b-chat\")\n",
    "\n",
    "response = llama.invoke(\"Explain the concept of quantum entanglement.\")\n",
    "print(response.content)\n"
   ]
  }
 ],
 "metadata": {
  "kernelspec": {
   "display_name": "Python [conda env:base] *",
   "language": "python",
   "name": "conda-base-py"
  },
  "language_info": {
   "codemirror_mode": {
    "name": "ipython",
    "version": 3
   },
   "file_extension": ".py",
   "mimetype": "text/x-python",
   "name": "python",
   "nbconvert_exporter": "python",
   "pygments_lexer": "ipython3",
   "version": "3.13.5"
  }
 },
 "nbformat": 4,
 "nbformat_minor": 5
}
