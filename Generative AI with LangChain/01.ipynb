{
 "cells": [
  {
   "cell_type": "code",
   "execution_count": null,
   "id": "24d1717d",
   "metadata": {
    "scrolled": true,
    "vscode": {
     "languageId": "plaintext"
    }
   },
   "outputs": [],
   "source": [
    "!pip install langchain-google-genai langchain_anthropic langchain_openai langchain-groq llama-cpp-python python-dotenv"
   ]
  },
  {
   "cell_type": "code",
   "execution_count": 2,
   "id": "c4bdba03-9ae8-46e2-b2ac-15956b843a02",
   "metadata": {},
   "outputs": [],
   "source": [
    "from langchain_google_genai import ChatGoogleGenerativeAI\n",
    "from langchain_anthropic import ChatAnthropic\n",
    "from langchain_openai import ChatOpenAI\n",
    "from langchain_groq import ChatGroq\n",
    "from dotenv import load_dotenv\n",
    "import os"
   ]
  },
  {
   "cell_type": "code",
   "execution_count": 3,
   "id": "f66929a6-e731-4849-a73a-3dfdf5558489",
   "metadata": {},
   "outputs": [
    {
     "data": {
      "text/plain": [
       "True"
      ]
     },
     "execution_count": 3,
     "metadata": {},
     "output_type": "execute_result"
    }
   ],
   "source": [
    "load_dotenv()"
   ]
  },
  {
   "cell_type": "code",
   "execution_count": 4,
   "id": "a8d42cf8-6b88-4b00-9811-c59ceaaabd97",
   "metadata": {},
   "outputs": [],
   "source": [
    "model = ChatGoogleGenerativeAI(model = 'gemini-1.5-flash', api_key = os.getenv(\"GOOGLE_API_KEY\"))"
   ]
  },
  {
   "cell_type": "code",
   "execution_count": 5,
   "id": "60c895dd-a660-450d-91eb-a57ec69f859c",
   "metadata": {},
   "outputs": [
    {
     "data": {
      "text/plain": [
       "'Deep learning (DL) is a *subset* of machine learning (ML) that uses artificial neural networks with multiple layers (hence \"deep\") to analyze data.  ML encompasses a broader range of algorithms, while DL focuses on learning complex patterns from data using these layered networks.  DL excels at tasks requiring high-level feature extraction, like image recognition and natural language processing, which are harder for simpler ML methods.'"
      ]
     },
     "execution_count": 5,
     "metadata": {},
     "output_type": "execute_result"
    }
   ],
   "source": [
    "model.invoke(\"How DL is different from ML, answer me in few lines\").content"
   ]
  },
  {
   "cell_type": "code",
   "execution_count": 6,
   "id": "2871981d-7a6e-4d6a-a277-08ef173c95a0",
   "metadata": {},
   "outputs": [],
   "source": [
    "# model = ChatAnthropic(model = 'claude-3-5-sonnet-20241022', api_key = os.getenv(\"ANTHROPIC_API_KEY\"))\n",
    "# model.invoke(\"How DL is different from ML, answer me in few lines\").content"
   ]
  },
  {
   "cell_type": "code",
   "execution_count": 9,
   "id": "68726cc2-e072-412b-ab67-0d9703ffce9d",
   "metadata": {},
   "outputs": [
    {
     "data": {
      "text/plain": [
       "'Deep Learning (DL) and Machine Learning (ML) are related terms, but they have key differences:\\n\\n * **Depth of Complexity:** Machine Learning is a broader field of Artificial Intelligence that includes Deep Learning. DL is a subset of ML that uses multiple Neural layers to analyze complexities in data.\\n * **Model Architectures:** DL relies heavily on Neural Networks, whereas traditional ML models rely on more linear, tree-based, or rule-based architectures.\\n * **Learning from Unstructured Data:** DL can learn complex patterns from raw, unstructured data (e.g., images, speech, text).\\n\\nThink of it as Machine Learning > Deep Learning, where Machine Learning is the umbrella and Deep Learning is a specific technique used to solve intricate problems.'"
      ]
     },
     "execution_count": 9,
     "metadata": {},
     "output_type": "execute_result"
    }
   ],
   "source": [
    "model = ChatGroq(\n",
    "    model=\"llama-3.1-8b-instant\",\n",
    "    temperature=1.5,\n",
    "    max_retries=2,\n",
    "    api_key= os.getenv(\"GROQ_API_KEY\")\n",
    ")\n",
    "model.invoke(\"How DL is different from ML, answer me in few lines\").content"
   ]
  },
  {
   "cell_type": "code",
   "execution_count": null,
   "id": "ced700ae-7e67-4c83-b8af-0f9d237de258",
   "metadata": {},
   "outputs": [],
   "source": []
  }
 ],
 "metadata": {
  "kernelspec": {
   "display_name": "Python [conda env:base] *",
   "language": "python",
   "name": "conda-base-py"
  },
  "language_info": {
   "codemirror_mode": {
    "name": "ipython",
    "version": 3
   },
   "file_extension": ".py",
   "mimetype": "text/x-python",
   "name": "python",
   "nbconvert_exporter": "python",
   "pygments_lexer": "ipython3",
   "version": "3.13.5"
  }
 },
 "nbformat": 4,
 "nbformat_minor": 5
}
