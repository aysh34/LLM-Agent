{
 "cells": [
  {
   "cell_type": "code",
   "execution_count": 1,
   "id": "01b681cd-0a1d-44f1-b2ca-231d98921fbf",
   "metadata": {
    "scrolled": true
   },
   "outputs": [
    {
     "name": "stdout",
     "output_type": "stream",
     "text": [
      "Requirement already satisfied: langchain-google-genai in d:\\anaconda3\\lib\\site-packages (2.1.9)\n",
      "Requirement already satisfied: langchain-together in d:\\anaconda3\\lib\\site-packages (0.3.1)\n",
      "Requirement already satisfied: pypdf in d:\\anaconda3\\lib\\site-packages (6.0.0)\n",
      "Requirement already satisfied: docx2txt in d:\\anaconda3\\lib\\site-packages (0.9)\n",
      "Requirement already satisfied: filetype<2.0.0,>=1.2.0 in d:\\anaconda3\\lib\\site-packages (from langchain-google-genai) (1.2.0)\n",
      "Requirement already satisfied: google-ai-generativelanguage<0.7.0,>=0.6.18 in d:\\anaconda3\\lib\\site-packages (from langchain-google-genai) (0.6.18)\n",
      "Requirement already satisfied: langchain-core<0.4.0,>=0.3.68 in d:\\anaconda3\\lib\\site-packages (from langchain-google-genai) (0.3.74)\n",
      "Requirement already satisfied: pydantic<3,>=2 in d:\\anaconda3\\lib\\site-packages (from langchain-google-genai) (2.10.3)\n",
      "Requirement already satisfied: google-api-core!=2.0.*,!=2.1.*,!=2.10.*,!=2.2.*,!=2.3.*,!=2.4.*,!=2.5.*,!=2.6.*,!=2.7.*,!=2.8.*,!=2.9.*,<3.0.0,>=1.34.1 in d:\\anaconda3\\lib\\site-packages (from google-api-core[grpc]!=2.0.*,!=2.1.*,!=2.10.*,!=2.2.*,!=2.3.*,!=2.4.*,!=2.5.*,!=2.6.*,!=2.7.*,!=2.8.*,!=2.9.*,<3.0.0,>=1.34.1->google-ai-generativelanguage<0.7.0,>=0.6.18->langchain-google-genai) (2.25.1)\n",
      "Requirement already satisfied: google-auth!=2.24.0,!=2.25.0,<3.0.0,>=2.14.1 in d:\\anaconda3\\lib\\site-packages (from google-ai-generativelanguage<0.7.0,>=0.6.18->langchain-google-genai) (2.40.3)\n",
      "Requirement already satisfied: proto-plus<2.0.0,>=1.22.3 in d:\\anaconda3\\lib\\site-packages (from google-ai-generativelanguage<0.7.0,>=0.6.18->langchain-google-genai) (1.26.1)\n",
      "Requirement already satisfied: protobuf!=4.21.0,!=4.21.1,!=4.21.2,!=4.21.3,!=4.21.4,!=4.21.5,<7.0.0,>=3.20.2 in d:\\anaconda3\\lib\\site-packages (from google-ai-generativelanguage<0.7.0,>=0.6.18->langchain-google-genai) (6.32.0)\n",
      "Requirement already satisfied: googleapis-common-protos<2.0.0,>=1.56.2 in d:\\anaconda3\\lib\\site-packages (from google-api-core!=2.0.*,!=2.1.*,!=2.10.*,!=2.2.*,!=2.3.*,!=2.4.*,!=2.5.*,!=2.6.*,!=2.7.*,!=2.8.*,!=2.9.*,<3.0.0,>=1.34.1->google-api-core[grpc]!=2.0.*,!=2.1.*,!=2.10.*,!=2.2.*,!=2.3.*,!=2.4.*,!=2.5.*,!=2.6.*,!=2.7.*,!=2.8.*,!=2.9.*,<3.0.0,>=1.34.1->google-ai-generativelanguage<0.7.0,>=0.6.18->langchain-google-genai) (1.70.0)\n",
      "Requirement already satisfied: requests<3.0.0,>=2.18.0 in d:\\anaconda3\\lib\\site-packages (from google-api-core!=2.0.*,!=2.1.*,!=2.10.*,!=2.2.*,!=2.3.*,!=2.4.*,!=2.5.*,!=2.6.*,!=2.7.*,!=2.8.*,!=2.9.*,<3.0.0,>=1.34.1->google-api-core[grpc]!=2.0.*,!=2.1.*,!=2.10.*,!=2.2.*,!=2.3.*,!=2.4.*,!=2.5.*,!=2.6.*,!=2.7.*,!=2.8.*,!=2.9.*,<3.0.0,>=1.34.1->google-ai-generativelanguage<0.7.0,>=0.6.18->langchain-google-genai) (2.32.3)\n",
      "Requirement already satisfied: grpcio<2.0.0,>=1.33.2 in d:\\anaconda3\\lib\\site-packages (from google-api-core[grpc]!=2.0.*,!=2.1.*,!=2.10.*,!=2.2.*,!=2.3.*,!=2.4.*,!=2.5.*,!=2.6.*,!=2.7.*,!=2.8.*,!=2.9.*,<3.0.0,>=1.34.1->google-ai-generativelanguage<0.7.0,>=0.6.18->langchain-google-genai) (1.74.0)\n",
      "Requirement already satisfied: grpcio-status<2.0.0,>=1.33.2 in d:\\anaconda3\\lib\\site-packages (from google-api-core[grpc]!=2.0.*,!=2.1.*,!=2.10.*,!=2.2.*,!=2.3.*,!=2.4.*,!=2.5.*,!=2.6.*,!=2.7.*,!=2.8.*,!=2.9.*,<3.0.0,>=1.34.1->google-ai-generativelanguage<0.7.0,>=0.6.18->langchain-google-genai) (1.74.0)\n",
      "Requirement already satisfied: cachetools<6.0,>=2.0.0 in d:\\anaconda3\\lib\\site-packages (from google-auth!=2.24.0,!=2.25.0,<3.0.0,>=2.14.1->google-ai-generativelanguage<0.7.0,>=0.6.18->langchain-google-genai) (5.5.1)\n",
      "Requirement already satisfied: pyasn1-modules>=0.2.1 in d:\\anaconda3\\lib\\site-packages (from google-auth!=2.24.0,!=2.25.0,<3.0.0,>=2.14.1->google-ai-generativelanguage<0.7.0,>=0.6.18->langchain-google-genai) (0.2.8)\n",
      "Requirement already satisfied: rsa<5,>=3.1.4 in d:\\anaconda3\\lib\\site-packages (from google-auth!=2.24.0,!=2.25.0,<3.0.0,>=2.14.1->google-ai-generativelanguage<0.7.0,>=0.6.18->langchain-google-genai) (4.9.1)\n",
      "Requirement already satisfied: langsmith>=0.3.45 in d:\\anaconda3\\lib\\site-packages (from langchain-core<0.4.0,>=0.3.68->langchain-google-genai) (0.4.15)\n",
      "Requirement already satisfied: tenacity!=8.4.0,<10.0.0,>=8.1.0 in d:\\anaconda3\\lib\\site-packages (from langchain-core<0.4.0,>=0.3.68->langchain-google-genai) (9.0.0)\n",
      "Requirement already satisfied: jsonpatch<2.0,>=1.33 in d:\\anaconda3\\lib\\site-packages (from langchain-core<0.4.0,>=0.3.68->langchain-google-genai) (1.33)\n",
      "Requirement already satisfied: PyYAML>=5.3 in d:\\anaconda3\\lib\\site-packages (from langchain-core<0.4.0,>=0.3.68->langchain-google-genai) (6.0.2)\n",
      "Requirement already satisfied: typing-extensions>=4.7 in d:\\anaconda3\\lib\\site-packages (from langchain-core<0.4.0,>=0.3.68->langchain-google-genai) (4.12.2)\n",
      "Requirement already satisfied: packaging>=23.2 in d:\\anaconda3\\lib\\site-packages (from langchain-core<0.4.0,>=0.3.68->langchain-google-genai) (24.2)\n",
      "Requirement already satisfied: jsonpointer>=1.9 in d:\\anaconda3\\lib\\site-packages (from jsonpatch<2.0,>=1.33->langchain-core<0.4.0,>=0.3.68->langchain-google-genai) (2.1)\n",
      "Requirement already satisfied: annotated-types>=0.6.0 in d:\\anaconda3\\lib\\site-packages (from pydantic<3,>=2->langchain-google-genai) (0.6.0)\n",
      "Requirement already satisfied: pydantic-core==2.27.1 in d:\\anaconda3\\lib\\site-packages (from pydantic<3,>=2->langchain-google-genai) (2.27.1)\n",
      "Requirement already satisfied: charset-normalizer<4,>=2 in d:\\anaconda3\\lib\\site-packages (from requests<3.0.0,>=2.18.0->google-api-core!=2.0.*,!=2.1.*,!=2.10.*,!=2.2.*,!=2.3.*,!=2.4.*,!=2.5.*,!=2.6.*,!=2.7.*,!=2.8.*,!=2.9.*,<3.0.0,>=1.34.1->google-api-core[grpc]!=2.0.*,!=2.1.*,!=2.10.*,!=2.2.*,!=2.3.*,!=2.4.*,!=2.5.*,!=2.6.*,!=2.7.*,!=2.8.*,!=2.9.*,<3.0.0,>=1.34.1->google-ai-generativelanguage<0.7.0,>=0.6.18->langchain-google-genai) (3.3.2)\n",
      "Requirement already satisfied: idna<4,>=2.5 in d:\\anaconda3\\lib\\site-packages (from requests<3.0.0,>=2.18.0->google-api-core!=2.0.*,!=2.1.*,!=2.10.*,!=2.2.*,!=2.3.*,!=2.4.*,!=2.5.*,!=2.6.*,!=2.7.*,!=2.8.*,!=2.9.*,<3.0.0,>=1.34.1->google-api-core[grpc]!=2.0.*,!=2.1.*,!=2.10.*,!=2.2.*,!=2.3.*,!=2.4.*,!=2.5.*,!=2.6.*,!=2.7.*,!=2.8.*,!=2.9.*,<3.0.0,>=1.34.1->google-ai-generativelanguage<0.7.0,>=0.6.18->langchain-google-genai) (3.7)\n",
      "Requirement already satisfied: urllib3<3,>=1.21.1 in d:\\anaconda3\\lib\\site-packages (from requests<3.0.0,>=2.18.0->google-api-core!=2.0.*,!=2.1.*,!=2.10.*,!=2.2.*,!=2.3.*,!=2.4.*,!=2.5.*,!=2.6.*,!=2.7.*,!=2.8.*,!=2.9.*,<3.0.0,>=1.34.1->google-api-core[grpc]!=2.0.*,!=2.1.*,!=2.10.*,!=2.2.*,!=2.3.*,!=2.4.*,!=2.5.*,!=2.6.*,!=2.7.*,!=2.8.*,!=2.9.*,<3.0.0,>=1.34.1->google-ai-generativelanguage<0.7.0,>=0.6.18->langchain-google-genai) (2.3.0)\n",
      "Requirement already satisfied: certifi>=2017.4.17 in d:\\anaconda3\\lib\\site-packages (from requests<3.0.0,>=2.18.0->google-api-core!=2.0.*,!=2.1.*,!=2.10.*,!=2.2.*,!=2.3.*,!=2.4.*,!=2.5.*,!=2.6.*,!=2.7.*,!=2.8.*,!=2.9.*,<3.0.0,>=1.34.1->google-api-core[grpc]!=2.0.*,!=2.1.*,!=2.10.*,!=2.2.*,!=2.3.*,!=2.4.*,!=2.5.*,!=2.6.*,!=2.7.*,!=2.8.*,!=2.9.*,<3.0.0,>=1.34.1->google-ai-generativelanguage<0.7.0,>=0.6.18->langchain-google-genai) (2025.8.3)\n",
      "Requirement already satisfied: pyasn1>=0.1.3 in d:\\anaconda3\\lib\\site-packages (from rsa<5,>=3.1.4->google-auth!=2.24.0,!=2.25.0,<3.0.0,>=2.14.1->google-ai-generativelanguage<0.7.0,>=0.6.18->langchain-google-genai) (0.4.8)\n",
      "Requirement already satisfied: aiohttp<4.0.0,>=3.9.1 in d:\\anaconda3\\lib\\site-packages (from langchain-together) (3.11.10)\n",
      "Requirement already satisfied: langchain-openai<0.4,>=0.3 in d:\\anaconda3\\lib\\site-packages (from langchain-together) (0.3.30)\n",
      "Requirement already satisfied: aiohappyeyeballs>=2.3.0 in d:\\anaconda3\\lib\\site-packages (from aiohttp<4.0.0,>=3.9.1->langchain-together) (2.4.4)\n",
      "Requirement already satisfied: aiosignal>=1.1.2 in d:\\anaconda3\\lib\\site-packages (from aiohttp<4.0.0,>=3.9.1->langchain-together) (1.2.0)\n",
      "Requirement already satisfied: attrs>=17.3.0 in d:\\anaconda3\\lib\\site-packages (from aiohttp<4.0.0,>=3.9.1->langchain-together) (24.3.0)\n",
      "Requirement already satisfied: frozenlist>=1.1.1 in d:\\anaconda3\\lib\\site-packages (from aiohttp<4.0.0,>=3.9.1->langchain-together) (1.5.0)\n",
      "Requirement already satisfied: multidict<7.0,>=4.5 in d:\\anaconda3\\lib\\site-packages (from aiohttp<4.0.0,>=3.9.1->langchain-together) (6.1.0)\n",
      "Requirement already satisfied: propcache>=0.2.0 in d:\\anaconda3\\lib\\site-packages (from aiohttp<4.0.0,>=3.9.1->langchain-together) (0.3.1)\n",
      "Requirement already satisfied: yarl<2.0,>=1.17.0 in d:\\anaconda3\\lib\\site-packages (from aiohttp<4.0.0,>=3.9.1->langchain-together) (1.18.0)\n",
      "Requirement already satisfied: openai<2.0.0,>=1.99.9 in d:\\anaconda3\\lib\\site-packages (from langchain-openai<0.4,>=0.3->langchain-together) (1.100.2)\n",
      "Requirement already satisfied: tiktoken<1,>=0.7 in d:\\anaconda3\\lib\\site-packages (from langchain-openai<0.4,>=0.3->langchain-together) (0.11.0)\n",
      "Requirement already satisfied: anyio<5,>=3.5.0 in d:\\anaconda3\\lib\\site-packages (from openai<2.0.0,>=1.99.9->langchain-openai<0.4,>=0.3->langchain-together) (4.7.0)\n",
      "Requirement already satisfied: distro<2,>=1.7.0 in d:\\anaconda3\\lib\\site-packages (from openai<2.0.0,>=1.99.9->langchain-openai<0.4,>=0.3->langchain-together) (1.9.0)\n",
      "Requirement already satisfied: httpx<1,>=0.23.0 in d:\\anaconda3\\lib\\site-packages (from openai<2.0.0,>=1.99.9->langchain-openai<0.4,>=0.3->langchain-together) (0.28.1)\n",
      "Requirement already satisfied: jiter<1,>=0.4.0 in d:\\anaconda3\\lib\\site-packages (from openai<2.0.0,>=1.99.9->langchain-openai<0.4,>=0.3->langchain-together) (0.10.0)\n",
      "Requirement already satisfied: sniffio in d:\\anaconda3\\lib\\site-packages (from openai<2.0.0,>=1.99.9->langchain-openai<0.4,>=0.3->langchain-together) (1.3.0)\n",
      "Requirement already satisfied: tqdm>4 in d:\\anaconda3\\lib\\site-packages (from openai<2.0.0,>=1.99.9->langchain-openai<0.4,>=0.3->langchain-together) (4.67.1)\n",
      "Requirement already satisfied: httpcore==1.* in d:\\anaconda3\\lib\\site-packages (from httpx<1,>=0.23.0->openai<2.0.0,>=1.99.9->langchain-openai<0.4,>=0.3->langchain-together) (1.0.9)\n",
      "Requirement already satisfied: h11>=0.16 in d:\\anaconda3\\lib\\site-packages (from httpcore==1.*->httpx<1,>=0.23.0->openai<2.0.0,>=1.99.9->langchain-openai<0.4,>=0.3->langchain-together) (0.16.0)\n",
      "Requirement already satisfied: regex>=2022.1.18 in d:\\anaconda3\\lib\\site-packages (from tiktoken<1,>=0.7->langchain-openai<0.4,>=0.3->langchain-together) (2024.11.6)\n",
      "Requirement already satisfied: orjson>=3.9.14 in d:\\anaconda3\\lib\\site-packages (from langsmith>=0.3.45->langchain-core<0.4.0,>=0.3.68->langchain-google-genai) (3.11.2)\n",
      "Requirement already satisfied: requests-toolbelt>=1.0.0 in d:\\anaconda3\\lib\\site-packages (from langsmith>=0.3.45->langchain-core<0.4.0,>=0.3.68->langchain-google-genai) (1.0.0)\n",
      "Requirement already satisfied: zstandard>=0.23.0 in d:\\anaconda3\\lib\\site-packages (from langsmith>=0.3.45->langchain-core<0.4.0,>=0.3.68->langchain-google-genai) (0.23.0)\n",
      "Requirement already satisfied: colorama in d:\\anaconda3\\lib\\site-packages (from tqdm>4->openai<2.0.0,>=1.99.9->langchain-openai<0.4,>=0.3->langchain-together) (0.4.6)\n"
     ]
    },
    {
     "name": "stderr",
     "output_type": "stream",
     "text": [
      "WARNING: Ignoring invalid distribution ~otebook (D:\\Anaconda3\\Lib\\site-packages)\n",
      "WARNING: Ignoring invalid distribution ~otebook (D:\\Anaconda3\\Lib\\site-packages)\n",
      "WARNING: Ignoring invalid distribution ~otebook (D:\\Anaconda3\\Lib\\site-packages)\n"
     ]
    }
   ],
   "source": [
    "!pip install langchain-google-genai langchain-together pypdf docx2txt"
   ]
  },
  {
   "cell_type": "markdown",
   "id": "d6a4c826-33a1-4290-9490-85118ed09382",
   "metadata": {},
   "source": [
    "## Imports"
   ]
  },
  {
   "cell_type": "code",
   "execution_count": 2,
   "id": "0aa90cd6-a221-4b22-8144-fcf512fa7e0d",
   "metadata": {},
   "outputs": [],
   "source": [
    "import json\n",
    "import os\n",
    "from dotenv import load_dotenv\n",
    "from langchain_together import ChatTogether\n",
    "from langchain_google_genai import ChatGoogleGenerativeAI\n",
    "from langchain_community.document_loaders import PyPDFLoader, TextLoader, Docx2txtLoader\n",
    "from langchain.prompts import PromptTemplate"
   ]
  },
  {
   "cell_type": "code",
   "execution_count": 3,
   "id": "70864b78-6162-48cb-b595-15f75fe1b70e",
   "metadata": {},
   "outputs": [
    {
     "data": {
      "text/plain": [
       "True"
      ]
     },
     "execution_count": 3,
     "metadata": {},
     "output_type": "execute_result"
    }
   ],
   "source": [
    "load_dotenv()"
   ]
  },
  {
   "cell_type": "code",
   "execution_count": 4,
   "id": "89f7a5fc-db28-4df3-b523-d60848cfd93b",
   "metadata": {},
   "outputs": [],
   "source": [
    "model = ChatGoogleGenerativeAI(model='gemini-1.5-flash',api_key=os.getenv('GOOGLE_API_KEY'))"
   ]
  },
  {
   "cell_type": "code",
   "execution_count": 5,
   "id": "af40227f-0643-42c4-95ba-ae7c993532c6",
   "metadata": {},
   "outputs": [],
   "source": [
    "# model.invoke('Summarize the bias-variance tradeoff.').content"
   ]
  },
  {
   "cell_type": "code",
   "execution_count": 6,
   "id": "bc869738-b763-40c0-b404-8b137481fc47",
   "metadata": {},
   "outputs": [],
   "source": [
    "PROMPT_TEMPLATE = \"\"\"\n",
    "You are an expert resume parser. Your task is to extract structured information from the resume text below.\n",
    "\n",
    "Return the output as a **single valid JSON object** with the exact following schema:\n",
    "\n",
    "{{\n",
    "  \"Name\": \"string\",\n",
    "  \"Email\": \"string\",\n",
    "  \"Phone\": \"string\",\n",
    "  \"LinkedIn\": \"string\",\n",
    "  \"Skills\": [\"string\"],\n",
    "  \"Education\": [\"string\"],\n",
    "  \"Experience\": [\"string\"],\n",
    "  \"Projects\": [\"string\"],\n",
    "  \"Certifications\": [\"string\"],\n",
    "  \"Languages\": [\"string\"]\n",
    "}}\n",
    "\n",
    "Rules:\n",
    "- If a field cannot be found, set its value to \"No idea\".\n",
    "- Do not add explanations, notes, or extra text — output JSON only.\n",
    "- For lists (Skills, Education, Experience, Projects, Certifications, Languages), return an array of short strings.\n",
    "- Keep the JSON compact and properly formatted.\n",
    "\n",
    "Resume text:\n",
    "{text}\n",
    "\"\"\"\n"
   ]
  },
  {
   "cell_type": "code",
   "execution_count": 7,
   "id": "67c58279-4f75-4e77-a993-973ac1e21942",
   "metadata": {},
   "outputs": [],
   "source": [
    "# prompt = PromptTemplate(\n",
    "#     template=PROMPT_TEMPLATE,\n",
    "#     input_variables=[\"text\"])\n",
    "# formatted_prompt = prompt.format(text=\"Jane Doe, ML Engineer skilled in TensorFlow, PyTorch...\")\n",
    "\n",
    "\n",
    "# Instantiation using from_template (recommended, automatically detect variables)\n",
    "# build prompt\n",
    "prompt = PromptTemplate.from_template(PROMPT_TEMPLATE)"
   ]
  },
  {
   "cell_type": "code",
   "execution_count": 8,
   "id": "bc569f44-dcfa-4118-8338-528a56f82ad2",
   "metadata": {},
   "outputs": [],
   "source": [
    "# formatted_prompt = prompt.format(text=\"John Doe, Software Engineer with skills in Python, SQL...\")"
   ]
  },
  {
   "cell_type": "code",
   "execution_count": 9,
   "id": "23d5d56c-d74c-484f-8e42-8c140aa6d81f",
   "metadata": {},
   "outputs": [],
   "source": [
    "# print(formatted_prompt)"
   ]
  },
  {
   "cell_type": "code",
   "execution_count": 10,
   "id": "ea52a79f-1e3e-486b-99df-e8753a642a53",
   "metadata": {},
   "outputs": [],
   "source": [
    "def load_resume(file_path):\n",
    "    if file_path.lower().endswith(\".pdf\"):\n",
    "        loader = PyPDFLoader(file_path)\n",
    "    elif file_path.lower().endswith(\".docx\"):\n",
    "        loader = Docx2txtLoader(file_path)\n",
    "    elif file_path.lower().endswith(\".txt\"):\n",
    "        loader = TextLoader(file_path)\n",
    "    else:\n",
    "        return None\n",
    "    return loader.load()"
   ]
  },
  {
   "cell_type": "code",
   "execution_count": 54,
   "id": "49f1d3d3-37d2-4509-93ca-7ac05d93d698",
   "metadata": {},
   "outputs": [],
   "source": [
    "extracted_text = load_resume(\"resume_sample.pdf\")"
   ]
  },
  {
   "cell_type": "code",
   "execution_count": 55,
   "id": "8a9a3d0f-d193-482e-9b1f-75bda71fd15f",
   "metadata": {},
   "outputs": [
    {
     "data": {
      "text/plain": [
       "[Document(metadata={'producer': 'macOS Version 14.2 (Build 23C64) Quartz PDFContext', 'creator': 'Pages', 'creationdate': \"D:20240725211807Z00'00'\", 'title': 'Data Science Roadmap', 'moddate': \"D:20240725211807Z00'00'\", 'source': 'data-science-roadmap.pdf', 'total_pages': 21, 'page': 0, 'page_label': '1'}, page_content='THE COMPLETE \\nDATA SCIENCE ROADMAP\\nGo From Zero to a Data Scientist  \\nin 12 Months \\nMosh Hamedani'),\n",
       " Document(metadata={'producer': 'macOS Version 14.2 (Build 23C64) Quartz PDFContext', 'creator': 'Pages', 'creationdate': \"D:20240725211807Z00'00'\", 'title': 'Data Science Roadmap', 'moddate': \"D:20240725211807Z00'00'\", 'source': 'data-science-roadmap.pdf', 'total_pages': 21, 'page': 1, 'page_label': '2'}, page_content='2\\nCopyright 2024 Code with Mosh codewithmosh.com\\nHi! I am Mosh Hamedani, a software engineer with over 20 \\nyears of experience.  \\nOver the past 10 years, I’ve had the privilege of teaching \\nmillions of people how to code and become professional \\nsoftware engineers through my YouTube channel and online \\ncourses. \\nIt’s my mission to make software engineering accessible to \\neveryone. Join me on this journey and unlock your potential in \\nthe world of coding! \\nhttps://codewithmosh.com'),\n",
       " Document(metadata={'producer': 'macOS Version 14.2 (Build 23C64) Quartz PDFContext', 'creator': 'Pages', 'creationdate': \"D:20240725211807Z00'00'\", 'title': 'Data Science Roadmap', 'moddate': \"D:20240725211807Z00'00'\", 'source': 'data-science-roadmap.pdf', 'total_pages': 21, 'page': 2, 'page_label': '3'}, page_content='Data Science Roadmap 3\\nTable of Content\\nIntroduction  4\\nTarget Audience\\t \\n4\\nResources\\t \\n4\\nRoadmap Overview  5\\nPython  6\\nVersion Control (Git)  8\\nData Structures & Algorithms  9\\nSQL  11\\nMathematics and Statistics  13\\nData Collection and Visualization  15\\nMachine Learning Fundamentals  16\\nDeep Learning  18\\nSpecialization  19\\nBig Data \\ue081Optional) 20\\nCopyright 2024 Code with Mosh codewithmosh.com'),\n",
       " Document(metadata={'producer': 'macOS Version 14.2 (Build 23C64) Quartz PDFContext', 'creator': 'Pages', 'creationdate': \"D:20240725211807Z00'00'\", 'title': 'Data Science Roadmap', 'moddate': \"D:20240725211807Z00'00'\", 'source': 'data-science-roadmap.pdf', 'total_pages': 21, 'page': 3, 'page_label': '4'}, page_content=\"Data Science Roadmap 4\\nIntroduction \\nThis guide is designed to help you navigate the essential skills needed to become \\na successful data scientist. Whether you're just starting out or looking to enhance \\nyour existing skills, this roadmap will provide a clear and structured path. \\nTarget Audience \\nThis guide is for: \\n• Beginners who want to know what they need to learn to land a data science \\njob. \\n• Experienced individuals looking to level up their skills and fill in the gaps in \\ntheir knowledge. \\nResources \\nFor detailed tutorials and full courses, check out the following resources: \\n• YouTube Channel: https://www.youtube.com/c/programmingwithmosh \\n• Full Courses: https://codewithmosh.com \\nCopyright 2024 Code with Mosh codewithmosh.com\"),\n",
       " Document(metadata={'producer': 'macOS Version 14.2 (Build 23C64) Quartz PDFContext', 'creator': 'Pages', 'creationdate': \"D:20240725211807Z00'00'\", 'title': 'Data Science Roadmap', 'moddate': \"D:20240725211807Z00'00'\", 'source': 'data-science-roadmap.pdf', 'total_pages': 21, 'page': 4, 'page_label': '5'}, page_content='Data Science Roadmap 5\\nRoadmap Overview \\nBelow is a comprehensive table listing all the essential skills needed to become a \\nproficient data scientist, along with the estimated time required to learn each skill.  \\nKeep in mind that the time needed to learn each skill can vary for everyone. These \\nestimates are based on dedicating 3 to 5 hours of study every day. \\nUse this roadmap to guide your learning journey and track your progress as you \\nbuild a strong foundation in data science. \\nSkill Est. Time Learning Phase\\nProgramming \\ue081Python) 1\\ue0882 months Beginner\\nVersion Control (Git) 1\\ue0882 weeks Beginner\\nData Structures & Algorithms 1\\ue0882 months Beginner\\nSQL 1\\ue0882 months Beginner\\nMathematics and Statistics 2\\ue0883 months Beginner\\nData Collection and Visualization 1\\ue0882 months Intermediate\\nMachine Learning Fundamentals 2\\ue0883 months Intermediate\\nDeep Learning 2\\ue0883 months Advanced\\nSpecialization \\ue081NLP or Computer Vision) 2\\ue0883 months Advanced\\nBig Data \\ue081Optional) 2\\ue0883 months Advanced\\nTotal 12\\ue08820 months\\nCopyright 2024 Code with Mosh codewithmosh.com'),\n",
       " Document(metadata={'producer': 'macOS Version 14.2 (Build 23C64) Quartz PDFContext', 'creator': 'Pages', 'creationdate': \"D:20240725211807Z00'00'\", 'title': 'Data Science Roadmap', 'moddate': \"D:20240725211807Z00'00'\", 'source': 'data-science-roadmap.pdf', 'total_pages': 21, 'page': 5, 'page_label': '6'}, page_content=\"Data Science Roadmap 6\\nPython \\nPython is a highly popular language for data science, known for its simplicity, \\nreadability, and extensive library support. It's widely used for data analysis, \\nvisualization, and building machine learning models. \\nEstimated time: 2 months \\nLearning resources: YouTube Tutorial |  Full Course \\nEssential Concepts \\n• Python Fundamentals \\n• Variables and data types \\n• Loops (for, while) and conditional statements (if, elif, else) \\n• Functions and scope  \\n• Data Structures \\n• Arrays, lists, tuples and sets \\n• Stacks and queues \\n• Dictionaries \\n• Comprehensions \\n• Generator expressions \\n• Exception Handling \\n• Handling exceptions with try/except  \\n• Raising exceptions  \\n• Functional Programming \\n• Lambda functions \\nCopyright 2024 Code with Mosh codewithmosh.com\"),\n",
       " Document(metadata={'producer': 'macOS Version 14.2 (Build 23C64) Quartz PDFContext', 'creator': 'Pages', 'creationdate': \"D:20240725211807Z00'00'\", 'title': 'Data Science Roadmap', 'moddate': \"D:20240725211807Z00'00'\", 'source': 'data-science-roadmap.pdf', 'total_pages': 21, 'page': 6, 'page_label': '7'}, page_content='Data Science Roadmap 7\\n• Map, reduce, filter  \\n• Object-oriented Programming \\n• Classes and objects \\n• Inheritance and polymorphism \\n• Modules and packages \\n• Creating modules \\n• Managing packages with pip and pipenv \\n• Virtual environments  \\n• Python Standard Library:  \\n• Working with paths, files, and directories \\n• Working with CSV and JSON files  \\n• Working with Date/time  \\n• Generating random values  \\n• Familiarity with data science libraries \\n• NumPy \\n• Pandas \\n• Matplotlib \\nCopyright 2024 Code with Mosh codewithmosh.com'),\n",
       " Document(metadata={'producer': 'macOS Version 14.2 (Build 23C64) Quartz PDFContext', 'creator': 'Pages', 'creationdate': \"D:20240725211807Z00'00'\", 'title': 'Data Science Roadmap', 'moddate': \"D:20240725211807Z00'00'\", 'source': 'data-science-roadmap.pdf', 'total_pages': 21, 'page': 7, 'page_label': '8'}, page_content='Data Science Roadmap 8\\nVersion Control (Git) \\nGit is a version control system that is crucial for managing code and collaboration \\nin data science projects. It allows you to track changes, collaborate with others, \\nand maintain the integrity of your codebase. \\nEstimated time: 1\\ue0882 weeks \\nLearning resources: YouTube Tutorial |  Full Course \\nEssential Concepts \\n• Setup and Configuration: init, clone, config \\n• Staging: status, add, rm, mv, commit, reset \\n• Inspect and Compare: log, diff, show \\n• Branching: branch, checkout, merge \\n• Remote Repositories: remote, fetch, pull, push \\n• Temporary Commits: stash \\n• GitHub: fork, pull request, code review \\nCopyright 2024 Code with Mosh codewithmosh.com'),\n",
       " Document(metadata={'producer': 'macOS Version 14.2 (Build 23C64) Quartz PDFContext', 'creator': 'Pages', 'creationdate': \"D:20240725211807Z00'00'\", 'title': 'Data Science Roadmap', 'moddate': \"D:20240725211807Z00'00'\", 'source': 'data-science-roadmap.pdf', 'total_pages': 21, 'page': 8, 'page_label': '9'}, page_content='Data Science Roadmap 9\\nData Structures & Algorithms \\nUnderstanding data structures and algorithms is crucial for optimizing code and \\nsolving complex problems efficiently. This knowledge is fundamental for technical \\ninterviews and real-world data science tasks. \\nEstimated Time: 1\\ue0882 months \\nLearning resources: YouTube Tutorial |  Full Course \\nEssential Concepts \\n• Big O Notation  \\n• Arrays and Linked Lists \\n• Stacks and Queues \\n• Hash Tables \\n• Trees and Graphs  \\n• Binary trees  \\n• AVL trees \\n• Heaps \\n• Tries \\n• Graphs \\n• Sorting Algorithms \\n• Bubble sort \\n• Selection sort \\n• Insertion sort \\n• Merge sort \\nCopyright 2024 Code with Mosh codewithmosh.com'),\n",
       " Document(metadata={'producer': 'macOS Version 14.2 (Build 23C64) Quartz PDFContext', 'creator': 'Pages', 'creationdate': \"D:20240725211807Z00'00'\", 'title': 'Data Science Roadmap', 'moddate': \"D:20240725211807Z00'00'\", 'source': 'data-science-roadmap.pdf', 'total_pages': 21, 'page': 9, 'page_label': '10'}, page_content='Data Science Roadmap 10\\n• Quick sort \\n• Counting sort \\n• Bucket sort \\n• Searching algorithms \\n• Linear search \\n• Binary search \\n• Ternary search \\n• Jump search \\n• Exponential search \\n• String Manipulation Algorithms \\n• Reversing a string \\n• Reversing words \\n• Rotations \\n• Removing duplicates \\n• Most repeated character \\n• Anagrams \\n• Palindrome \\n• Recursion \\nCopyright 2024 Code with Mosh codewithmosh.com'),\n",
       " Document(metadata={'producer': 'macOS Version 14.2 (Build 23C64) Quartz PDFContext', 'creator': 'Pages', 'creationdate': \"D:20240725211807Z00'00'\", 'title': 'Data Science Roadmap', 'moddate': \"D:20240725211807Z00'00'\", 'source': 'data-science-roadmap.pdf', 'total_pages': 21, 'page': 10, 'page_label': '11'}, page_content=\"Data Science Roadmap 11\\nSQL \\nSQL \\ue081Structured Query Language) is essential for querying and managing data in \\nrelational databases. It's a fundamental skill for any data scientist working with \\nstructured data. \\nEstimated time: 1\\ue0882 months \\nLearning resources: YouTube Tutorial |  Full Course \\nEssential Concepts \\n• Basic Operations \\n• Querying data \\ue081SELECT\\ue082 \\n• Modifying data \\ue081INSERT, UPDATE, DELETE\\ue082 \\n• Filtering data \\ue081WHERE, IN, BETWEEN, LIKE, IS NULL, REGEXP\\ue082 \\n• Logical operators \\ue081AND, OR, NOT\\ue082 \\n• Sorting and limiting data \\ue081ORDER BY, LIMIT\\ue082 \\n• Complex Queries  \\n• Joins \\ue081INNER, OUTER, SELF, NATURAL, CROSS\\ue082 \\n• Aggregate functions \\ue081MAX, MIN, AVG, SUM, COUNT\\ue082 \\n• Grouping data \\ue081GROUP BY, HAVING, ROLLUP\\ue082 \\n• Subqueries \\n• Views \\n• Stored Procedures and Functions \\n• Triggers and Events \\n• Transactions \\nCopyright 2024 Code with Mosh codewithmosh.com\"),\n",
       " Document(metadata={'producer': 'macOS Version 14.2 (Build 23C64) Quartz PDFContext', 'creator': 'Pages', 'creationdate': \"D:20240725211807Z00'00'\", 'title': 'Data Science Roadmap', 'moddate': \"D:20240725211807Z00'00'\", 'source': 'data-science-roadmap.pdf', 'total_pages': 21, 'page': 11, 'page_label': '12'}, page_content='Data Science Roadmap 12\\n• Transaction isolation levels \\n• BEGIN, COMMIT, ROLLBACK \\n• Database Design \\n• Normalization \\n• Database integrity with primary keys, foreign keys, and constraints \\n• Indexes  \\n• Security and Permissions: Managing users and privileges \\nCopyright 2024 Code with Mosh codewithmosh.com'),\n",
       " Document(metadata={'producer': 'macOS Version 14.2 (Build 23C64) Quartz PDFContext', 'creator': 'Pages', 'creationdate': \"D:20240725211807Z00'00'\", 'title': 'Data Science Roadmap', 'moddate': \"D:20240725211807Z00'00'\", 'source': 'data-science-roadmap.pdf', 'total_pages': 21, 'page': 12, 'page_label': '13'}, page_content=\"Data Science Roadmap 13\\nMathematics and Statistics \\nMathematics and statistics are fundamental for understanding data science \\nconcepts. They provide the theoretical foundation for data analysis and machine \\nlearning algorithms. \\nEstimated Time: 2\\ue0883 months \\nEssential Concepts \\n• Linear Algebra \\n• Vectors and matrices \\n• Matrix operations \\n• Eigenvalues and eigenvectors \\n• Singular Value Decomposition \\ue081SVD\\ue082 \\n• Calculus \\n• Derivatives and gradients \\n• Partial derivatives \\n• Chain rule \\n• Integrals \\n• Probability \\n• Probability distributions \\n• Bayes' theorem \\n• Random variables \\n• Expectation and variance \\nCopyright 2024 Code with Mosh codewithmosh.com\"),\n",
       " Document(metadata={'producer': 'macOS Version 14.2 (Build 23C64) Quartz PDFContext', 'creator': 'Pages', 'creationdate': \"D:20240725211807Z00'00'\", 'title': 'Data Science Roadmap', 'moddate': \"D:20240725211807Z00'00'\", 'source': 'data-science-roadmap.pdf', 'total_pages': 21, 'page': 13, 'page_label': '14'}, page_content='Data Science Roadmap 14\\n• Statistics \\n• Descriptive statistics (mean, median, mode, standard deviation) \\n• Hypothesis testing \\n• Confidence intervals \\n• Regression analysis \\nCopyright 2024 Code with Mosh codewithmosh.com'),\n",
       " Document(metadata={'producer': 'macOS Version 14.2 (Build 23C64) Quartz PDFContext', 'creator': 'Pages', 'creationdate': \"D:20240725211807Z00'00'\", 'title': 'Data Science Roadmap', 'moddate': \"D:20240725211807Z00'00'\", 'source': 'data-science-roadmap.pdf', 'total_pages': 21, 'page': 14, 'page_label': '15'}, page_content='Data Science Roadmap 15\\nData Collection and Visualization \\nEffective data handling, processing, and visualization are critical for preparing \\ndata for analysis and communicating results. This involves cleaning, transforming, \\nexploring, and visualizing data. \\nEstimated Time: 1\\ue0882 months \\nEssential Concepts \\n• Data Cleaning \\n• Handling missing values \\n• Removing duplicates \\n• Outlier detection and treatment \\n• Data Transformation \\n• Normalization and standardization \\n• Encoding categorical variables \\n• Feature scaling \\n• Exploratory Data Analysis \\ue081EDA\\ue082 \\n• Summary statistics \\n• Data visualization (using libraries like Matplotlib, Seaborn) \\n• Identifying patterns and correlations \\n• Data Integration \\n• Merging and joining datasets \\n• Data aggregation \\n• Handling different data formats \\ue081CSV, JSON, SQL\\ue082 \\nCopyright 2024 Code with Mosh codewithmosh.com'),\n",
       " Document(metadata={'producer': 'macOS Version 14.2 (Build 23C64) Quartz PDFContext', 'creator': 'Pages', 'creationdate': \"D:20240725211807Z00'00'\", 'title': 'Data Science Roadmap', 'moddate': \"D:20240725211807Z00'00'\", 'source': 'data-science-roadmap.pdf', 'total_pages': 21, 'page': 15, 'page_label': '16'}, page_content='Data Science Roadmap 16\\nMachine Learning Fundamentals \\nUnderstanding machine learning fundamentals is crucial for building predictive \\nmodels. This involves learning about different algorithms and how to train and \\nevaluate models. \\nEstimated Time: 2\\ue0883 months \\nEssential Concepts \\n• Supervised Learning \\n• Regression algorithms (e.g., linear regression, logistic regression) \\n• Classification algorithms (e.g., decision trees, k-nearest neighbors, \\nsupport vector machines) \\n• Unsupervised Learning \\n• Clustering algorithms (e.g., K-means, hierarchical clustering) \\n• Dimensionality reduction techniques (e.g., PCA, LDA\\ue082 \\n• Model Evaluation \\n• Accuracy \\n• Precision-Recall \\n• F1 score  \\n• ROC\\ue088AUC \\n• Confusion matrix \\n• Model Training \\n• Train-test split \\n• Cross-validation \\n• Hyperparameter tuning \\n• Overfitting and Underfitting \\nCopyright 2024 Code with Mosh codewithmosh.com'),\n",
       " Document(metadata={'producer': 'macOS Version 14.2 (Build 23C64) Quartz PDFContext', 'creator': 'Pages', 'creationdate': \"D:20240725211807Z00'00'\", 'title': 'Data Science Roadmap', 'moddate': \"D:20240725211807Z00'00'\", 'source': 'data-science-roadmap.pdf', 'total_pages': 21, 'page': 16, 'page_label': '17'}, page_content='Data Science Roadmap 17\\n• Recognizing overfitting and underfitting \\n• Techniques to mitigate overfitting (e.g., regularization, dropout) \\n• Model complexity management \\nCopyright 2024 Code with Mosh codewithmosh.com'),\n",
       " Document(metadata={'producer': 'macOS Version 14.2 (Build 23C64) Quartz PDFContext', 'creator': 'Pages', 'creationdate': \"D:20240725211807Z00'00'\", 'title': 'Data Science Roadmap', 'moddate': \"D:20240725211807Z00'00'\", 'source': 'data-science-roadmap.pdf', 'total_pages': 21, 'page': 17, 'page_label': '18'}, page_content='Data Science Roadmap 18\\nDeep Learning \\nDeep learning is a subset of machine learning that involves neural networks with \\nmany layers. These models are powerful for handling large-scale data and \\ncomplex patterns. \\nEstimated Time: 2\\ue0883 months \\nEssential Concepts \\n• Neural Networks \\n• Basics of neural networks \\n• Activation functions \\n• Forward and backward propagation \\n• Advanced Neural Networks \\n• Convolutional Neural Networks \\ue081CNNs) \\n• Recurrent Neural Networks \\ue081RNNs) \\n• Deep Learning Frameworks \\n• Tools: TensorFlow, PyTorch, Keras \\nCopyright 2024 Code with Mosh codewithmosh.com'),\n",
       " Document(metadata={'producer': 'macOS Version 14.2 (Build 23C64) Quartz PDFContext', 'creator': 'Pages', 'creationdate': \"D:20240725211807Z00'00'\", 'title': 'Data Science Roadmap', 'moddate': \"D:20240725211807Z00'00'\", 'source': 'data-science-roadmap.pdf', 'total_pages': 21, 'page': 18, 'page_label': '19'}, page_content='Data Science Roadmap 19\\nSpecialization  \\nSpecializing in a specific area of data science allows you to develop expertise and \\nstand out in the field. Two popular tracks are Natural Language Processing \\ue081NLP\\ue082 \\nand Computer Vision. \\nEstimated Time: 2\\ue0883 months \\nEssential Concepts \\n• Natural Language Processing \\ue081NLP\\ue082 \\n• Text preprocessing (tokenization, stemming, lemmatization) \\n• Sentiment analysis \\n• Named entity recognition \\ue081NER\\ue082 \\n• Language modeling (using libraries like NLTK, SpaCy, Hugging Face) \\n• Computer Vision \\n• Image Classification: Techniques and models \\n• Object Detection: Algorithms like YOLO, SSD \\n• Image Segmentation: Semantic and instance segmentation \\n• Generative Models: GANs in computer vision \\nCopyright 2024 Code with Mosh codewithmosh.com'),\n",
       " Document(metadata={'producer': 'macOS Version 14.2 (Build 23C64) Quartz PDFContext', 'creator': 'Pages', 'creationdate': \"D:20240725211807Z00'00'\", 'title': 'Data Science Roadmap', 'moddate': \"D:20240725211807Z00'00'\", 'source': 'data-science-roadmap.pdf', 'total_pages': 21, 'page': 19, 'page_label': '20'}, page_content='Data Science Roadmap 20\\nBig Data \\ue081Optional) \\nBig data skills are valuable for processing and analyzing large datasets, which is \\nessential for certain data science roles. Understanding big data technologies can \\nenhance your capabilities and make you more competitive in the job market. \\nEstimated Time: 2\\ue0883 months \\nEssential Concepts \\n• Big Data Frameworks: Hadoop, Spark \\n• Data Processing: MapReduce, Spark SQL \\n• Data Storage: HDFS, NoSQL databases \\ue081Cassandra, MongoDB\\ue082 \\n• Data Ingestion: Kafka, Flume \\nCopyright 2024 Code with Mosh codewithmosh.com'),\n",
       " Document(metadata={'producer': 'macOS Version 14.2 (Build 23C64) Quartz PDFContext', 'creator': 'Pages', 'creationdate': \"D:20240725211807Z00'00'\", 'title': 'Data Science Roadmap', 'moddate': \"D:20240725211807Z00'00'\", 'source': 'data-science-roadmap.pdf', 'total_pages': 21, 'page': 20, 'page_label': '21'}, page_content='Data Science Roadmap 21\\nLearning to code is a journey. Be patient with yourself and \\nstay persistent, even when things get tough. \\n- Mosh\\nCopyright 2024 Code with Mosh codewithmosh.com')]"
      ]
     },
     "execution_count": 55,
     "metadata": {},
     "output_type": "execute_result"
    }
   ],
   "source": [
    "extracted_text"
   ]
  },
  {
   "cell_type": "code",
   "execution_count": 56,
   "id": "7b803e2f-ca28-4b2c-8592-72068fde47bb",
   "metadata": {},
   "outputs": [],
   "source": [
    "# [str(doc) for doc in extracted_text]"
   ]
  },
  {
   "cell_type": "code",
   "execution_count": 57,
   "id": "c57e845f-c041-45ec-9e09-f15d0b0b4f96",
   "metadata": {},
   "outputs": [],
   "source": [
    "extracted_text = \"\\n\\n\".join([str(doc) for doc in extracted_text])"
   ]
  },
  {
   "cell_type": "code",
   "execution_count": 58,
   "id": "617e08f5-5870-4978-9175-f9599589be6b",
   "metadata": {},
   "outputs": [],
   "source": [
    "# extracted_text"
   ]
  },
  {
   "cell_type": "code",
   "execution_count": 59,
   "id": "9be1316b-da88-4cc7-85d7-be3d2ef4bbdc",
   "metadata": {},
   "outputs": [],
   "source": [
    "formated_text = prompt.format(text = extracted_text)\n",
    "response = model.invoke(formated_text).content"
   ]
  },
  {
   "cell_type": "code",
   "execution_count": 60,
   "id": "f2668e80-0059-4ba2-98a9-78d7e65e499f",
   "metadata": {},
   "outputs": [],
   "source": [
    "import re\n",
    "def extract_json(response):\n",
    "    cleaned = re.sub(r\"```(json)?\", \"\", response).strip()\n",
    "    \n",
    "    try:\n",
    "        structured_output = json.loads(cleaned)\n",
    "    except json.JSONDecodeError:\n",
    "        print(\"Model returned invalid JSON. Raw output:\")\n",
    "        print(response)\n",
    "        structured_output = None\n",
    "    return structured_output"
   ]
  },
  {
   "cell_type": "code",
   "execution_count": 61,
   "id": "80f7702e-078e-497a-82ad-69d397df83d6",
   "metadata": {},
   "outputs": [
    {
     "name": "stdout",
     "output_type": "stream",
     "text": [
      "{'Name': 'Mosh Hamedani', 'Email': 'No idea', 'Phone': 'No idea', 'LinkedIn': 'No idea', 'Skills': ['Python', 'Git', 'SQL', 'Data Structures & Algorithms', 'Mathematics and Statistics', 'Data Collection and Visualization', 'Machine Learning', 'Deep Learning', 'NLP', 'Computer Vision', 'Big Data', 'NumPy', 'Pandas', 'Matplotlib', 'TensorFlow', 'PyTorch', 'Keras', 'Hadoop', 'Spark', 'NLTK', 'SpaCy', 'Hugging Face'], 'Education': ['No idea'], 'Experience': ['Software engineer with over 20 years of experience', 'Teaching millions of people how to code and become professional software engineers through YouTube channel and online courses'], 'Projects': ['No idea'], 'Certifications': ['No idea'], 'Languages': ['No idea']}\n"
     ]
    }
   ],
   "source": [
    "print(extract_json(response))"
   ]
  },
  {
   "cell_type": "code",
   "execution_count": 62,
   "id": "b727c0c8-1856-40f2-9ae0-b92336856cdc",
   "metadata": {},
   "outputs": [
    {
     "name": "stdout",
     "output_type": "stream",
     "text": [
      "['Python', 'Git', 'SQL', 'Data Structures & Algorithms', 'Mathematics and Statistics', 'Data Collection and Visualization', 'Machine Learning', 'Deep Learning', 'NLP', 'Computer Vision', 'Big Data', 'NumPy', 'Pandas', 'Matplotlib', 'TensorFlow', 'PyTorch', 'Keras', 'Hadoop', 'Spark', 'NLTK', 'SpaCy', 'Hugging Face']\n"
     ]
    }
   ],
   "source": [
    "print(extract_json(response)['Skills'])"
   ]
  },
  {
   "cell_type": "code",
   "execution_count": null,
   "id": "2fa6236b-7293-406d-89dd-f2604960cdeb",
   "metadata": {},
   "outputs": [],
   "source": []
  }
 ],
 "metadata": {
  "kernelspec": {
   "display_name": "Python [conda env:base] *",
   "language": "python",
   "name": "conda-base-py"
  },
  "language_info": {
   "codemirror_mode": {
    "name": "ipython",
    "version": 3
   },
   "file_extension": ".py",
   "mimetype": "text/x-python",
   "name": "python",
   "nbconvert_exporter": "python",
   "pygments_lexer": "ipython3",
   "version": "3.13.5"
  }
 },
 "nbformat": 4,
 "nbformat_minor": 5
}
