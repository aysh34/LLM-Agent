{
 "cells": [
  {
   "cell_type": "markdown",
   "id": "a983da43-a50a-495c-a25f-a1abfa200522",
   "metadata": {
    "vscode": {
     "languageId": "plaintext"
    }
   },
   "source": [
    "### **Hi there, I am Ayesha Saleem**\n",
    "\n",
    "[![Visit GitHub Profile](https://img.shields.io/badge/GitHub-Visit_My_Profile-181717?style=flat&logo=github&logoColor=white)](https://github.com/aysh34)"
   ]
  },
  {
   "cell_type": "markdown",
   "id": "74081c19-f2af-47cd-8f56-498340ea7d82",
   "metadata": {},
   "source": [
    "When I first encountered terms like LLM, LLM agent, and AI agent, I found them quite confusing. However, I'm here to clarify these concepts for you in the simplest way possible. Let's get started!"
   ]
  },
  {
   "cell_type": "markdown",
   "id": "f98e823d-6393-4ecd-a691-cfc0718841d9",
   "metadata": {},
   "source": [
    "## **LLM vs AI agent vs LLM agent**"
   ]
  },
  {
   "cell_type": "markdown",
   "id": "3396ce3c-9cdc-43a4-a1c6-ad725aa89f1f",
   "metadata": {},
   "source": [
    "### LLM (Large Language Model)\n",
    "*LLMs are nothing but fancy and huge autocompletes.*\n",
    "\n",
    "“They understand and generate human language.”\n",
    "\n",
    "Let’s add:\n",
    "- An LLM predicts the next word/token based on context.\n",
    "- Examples: GPT-4, Claude, LLaMA, Gemini, etc.\n",
    "- Pure LLMs **don’t have memory, goals, or initiative** they just respond to prompts."
   ]
  },
  {
   "cell_type": "markdown",
   "id": "1e51fcd6-d2d4-4eba-84a5-5708dee2a724",
   "metadata": {},
   "source": [
    "## **AI Agent**\n",
    "AI agent is a system that can **perceive, reason, act,** and sometimes learn to **achieve a goal**.\n",
    "\n",
    "- It might use LLMs, but not always.\n",
    "- It includes **tools, memory, planning, action loops** (e.g., deciding what to do next).\n",
    "- Example: A robot that uses vision + planning to clean your house."
   ]
  },
  {
   "cell_type": "markdown",
   "id": "e290bfe1-9639-4c21-a4b9-6e87479db2f3",
   "metadata": {},
   "source": [
    "## **LLM Agent**\n",
    "An AI agent that **uses an LLM** as its reasoning engine.\n",
    "\n",
    "- It prompts the LLM repeatedly to think, decide, and act.\n",
    "- Usually includes **tools (APIs, search, code execution), memory, and task loops.**\n",
    "#### **LLM Agent = LLM + Tools + Memory + Goals + Reasoning Loop(think → act → reflect → repeat)**"
   ]
  },
  {
   "cell_type": "markdown",
   "id": "f137d36b-f1d0-4432-a275-d6410e34631f",
   "metadata": {},
   "source": [
    "## **What turns an LLM into an LLM Agent?**\n",
    "At its core, an LLM becomes an LLM agent when it's put into a system that lets **it act toward a goal**, not just generate a reply.\n",
    "\n",
    "That system includes:\n",
    "1. **Goal:** A clear objective. *LLMs alone don’t have goals. Agents are given goals.*\n",
    "2. **Memory:** So the LLM can “remember” what it’s done, steps taken, outputs, or plans. *Memory can be a simple chat history or a structured scratchpad.*\n",
    "3. **Tools:** The ability to use external actions: API calls, file reading, search engines, databases, Python code.\n",
    "   *LLMs alone can’t access the outside world. Agents often include tool use.*\n",
    "5. **Reasoning Loop:** A loop where the LLM\n",
    "\n",
    "- Thinks about what to do next,\n",
    "- Decides on an action,\n",
    "- Acts (or simulates acting),\n",
    "- Reflects and repeats.\n",
    "\n",
    "This loop is what lets the **LLM self-direct toward a goal.**"
   ]
  },
  {
   "cell_type": "markdown",
   "id": "b2a02e9e-c77e-4906-9933-3c60e8b7169c",
   "metadata": {},
   "source": [
    "## **All the major ways to build an LLM agent, from scratch to pro-level frameworks.**\n",
    "All LLM agents have 4 key components:\n",
    "\n",
    "1. LLM (e.g., GPT-4, Claude, LLaMA)\n",
    "2. Memory (chat history, vector store, scratchpad)\n",
    "3. Tool use (code exec, web search, APIs)\n",
    "4. Reasoning loop (think → act → reflect → repeat)"
   ]
  },
  {
   "cell_type": "markdown",
   "id": "1c75b4bc-f3ef-446a-b30d-b3e7cdd908b2",
   "metadata": {},
   "source": [
    "Ways to Build an LLM Agent (From Simple to Advanced)\n",
    "\n",
    "1. Basic Prompt Loops (from scratch)\n",
    "2. Function Calling / Tool Use via API\n",
    "3. LangChain Agents\n",
    "4. AutoGen (multi-agent systems)\n",
    "5. CrewAI / LangGraph\n",
    "6. HuggingFace Transformers + Agents"
   ]
  },
  {
   "cell_type": "code",
   "execution_count": null,
   "id": "4ff1c9d9-267c-407f-98b9-bb279f89235a",
   "metadata": {},
   "outputs": [],
   "source": []
  }
 ],
 "metadata": {
  "kernelspec": {
   "display_name": "Python 3 (ipykernel)",
   "language": "python",
   "name": "python3"
  },
  "language_info": {
   "codemirror_mode": {
    "name": "ipython",
    "version": 3
   },
   "file_extension": ".py",
   "mimetype": "text/x-python",
   "name": "python",
   "nbconvert_exporter": "python",
   "pygments_lexer": "ipython3",
   "version": "3.13.5"
  }
 },
 "nbformat": 4,
 "nbformat_minor": 5
}
